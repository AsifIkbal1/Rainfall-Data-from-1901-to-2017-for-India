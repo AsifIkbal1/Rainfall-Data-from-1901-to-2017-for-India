{
 "cells": [
  {
   "cell_type": "code",
   "execution_count": 1,
   "metadata": {},
   "outputs": [],
   "source": [
    "import pandas as pd\n",
    "from pandas.plotting import scatter_matrix\n",
    "import matplotlib.pyplot as plt\n",
    "from sklearn import model_selection\n",
    "from sklearn.metrics import classification_report\n",
    "from sklearn.metrics import confusion_matrix\n",
    "from sklearn.metrics import accuracy_score\n",
    "from sklearn.linear_model import LogisticRegression\n",
    "from sklearn.tree import DecisionTreeClassifier\n",
    "from sklearn.neighbors import KNeighborsClassifier\n",
    "from sklearn.discriminant_analysis import LinearDiscriminantAnalysis\n",
    "from sklearn.naive_bayes import GaussianNB\n",
    "from sklearn.svm import SVC\n",
    "from sklearn.model_selection import train_test_split\n",
    "from sklearn.linear_model import LinearRegression\n",
    "from sklearn.linear_model import LogisticRegression\n",
    "import numpy as np\n",
    "import pandas as pd\n",
    "from sklearn.preprocessing import StandardScaler\n",
    "from sklearn.metrics import f1_score\n",
    "from sklearn.metrics import accuracy_score\n",
    "%matplotlib inline\n",
    "import seaborn as sns\n",
    "import pandas as pd\n",
    "from sklearn.naive_bayes import GaussianNB\n",
    "from sklearn.model_selection import train_test_split\n",
    "from sklearn.preprocessing import LabelEncoder\n"
   ]
  },
  {
   "cell_type": "code",
   "execution_count": 13,
   "metadata": {},
   "outputs": [
    {
     "data": {
      "text/html": [
       "<div>\n",
       "<style scoped>\n",
       "    .dataframe tbody tr th:only-of-type {\n",
       "        vertical-align: middle;\n",
       "    }\n",
       "\n",
       "    .dataframe tbody tr th {\n",
       "        vertical-align: top;\n",
       "    }\n",
       "\n",
       "    .dataframe thead th {\n",
       "        text-align: right;\n",
       "    }\n",
       "</style>\n",
       "<table border=\"1\" class=\"dataframe\">\n",
       "  <thead>\n",
       "    <tr style=\"text-align: right;\">\n",
       "      <th></th>\n",
       "      <th>Name</th>\n",
       "      <th>SUBDIVISION</th>\n",
       "      <th>YEAR</th>\n",
       "      <th>JAN</th>\n",
       "      <th>FEB</th>\n",
       "      <th>MAR</th>\n",
       "      <th>APR</th>\n",
       "      <th>MAY</th>\n",
       "      <th>JUN</th>\n",
       "      <th>JUL</th>\n",
       "      <th>...</th>\n",
       "      <th>OCT</th>\n",
       "      <th>NOV</th>\n",
       "      <th>DEC</th>\n",
       "      <th>ANNUAL</th>\n",
       "      <th>Jan-Feb</th>\n",
       "      <th>Mar-May</th>\n",
       "      <th>June-September</th>\n",
       "      <th>Oct-Dec</th>\n",
       "      <th>Latitude</th>\n",
       "      <th>Longitude</th>\n",
       "    </tr>\n",
       "  </thead>\n",
       "  <tbody>\n",
       "    <tr>\n",
       "      <th>0</th>\n",
       "      <td>ROW1</td>\n",
       "      <td>Andaman &amp; Nicobar Islands</td>\n",
       "      <td>1901</td>\n",
       "      <td>49.2</td>\n",
       "      <td>87.1</td>\n",
       "      <td>29.2</td>\n",
       "      <td>2.3</td>\n",
       "      <td>528.8</td>\n",
       "      <td>517.5</td>\n",
       "      <td>365.1</td>\n",
       "      <td>...</td>\n",
       "      <td>388.5</td>\n",
       "      <td>558.2</td>\n",
       "      <td>33.6</td>\n",
       "      <td>3373.2</td>\n",
       "      <td>136.3</td>\n",
       "      <td>560.3</td>\n",
       "      <td>1696.3</td>\n",
       "      <td>980.3</td>\n",
       "      <td>12.61124</td>\n",
       "      <td>92.83165</td>\n",
       "    </tr>\n",
       "    <tr>\n",
       "      <th>1</th>\n",
       "      <td>ROW2</td>\n",
       "      <td>Andaman &amp; Nicobar Islands</td>\n",
       "      <td>1902</td>\n",
       "      <td>0.0</td>\n",
       "      <td>159.8</td>\n",
       "      <td>12.2</td>\n",
       "      <td>0.0</td>\n",
       "      <td>446.1</td>\n",
       "      <td>537.1</td>\n",
       "      <td>228.9</td>\n",
       "      <td>...</td>\n",
       "      <td>197.2</td>\n",
       "      <td>359.0</td>\n",
       "      <td>160.5</td>\n",
       "      <td>3520.7</td>\n",
       "      <td>159.8</td>\n",
       "      <td>458.3</td>\n",
       "      <td>2185.9</td>\n",
       "      <td>716.7</td>\n",
       "      <td>12.61124</td>\n",
       "      <td>92.83165</td>\n",
       "    </tr>\n",
       "    <tr>\n",
       "      <th>2</th>\n",
       "      <td>ROW3</td>\n",
       "      <td>Andaman &amp; Nicobar Islands</td>\n",
       "      <td>1903</td>\n",
       "      <td>12.7</td>\n",
       "      <td>144.0</td>\n",
       "      <td>0.0</td>\n",
       "      <td>1.0</td>\n",
       "      <td>235.1</td>\n",
       "      <td>479.9</td>\n",
       "      <td>728.4</td>\n",
       "      <td>...</td>\n",
       "      <td>181.2</td>\n",
       "      <td>284.4</td>\n",
       "      <td>225.0</td>\n",
       "      <td>2957.4</td>\n",
       "      <td>156.7</td>\n",
       "      <td>236.1</td>\n",
       "      <td>1874.0</td>\n",
       "      <td>690.6</td>\n",
       "      <td>12.61124</td>\n",
       "      <td>92.83165</td>\n",
       "    </tr>\n",
       "    <tr>\n",
       "      <th>3</th>\n",
       "      <td>ROW4</td>\n",
       "      <td>Andaman &amp; Nicobar Islands</td>\n",
       "      <td>1904</td>\n",
       "      <td>9.4</td>\n",
       "      <td>14.7</td>\n",
       "      <td>0.0</td>\n",
       "      <td>202.4</td>\n",
       "      <td>304.5</td>\n",
       "      <td>495.1</td>\n",
       "      <td>502.0</td>\n",
       "      <td>...</td>\n",
       "      <td>222.2</td>\n",
       "      <td>308.7</td>\n",
       "      <td>40.1</td>\n",
       "      <td>3079.6</td>\n",
       "      <td>24.1</td>\n",
       "      <td>506.9</td>\n",
       "      <td>1977.6</td>\n",
       "      <td>571.0</td>\n",
       "      <td>12.61124</td>\n",
       "      <td>92.83165</td>\n",
       "    </tr>\n",
       "    <tr>\n",
       "      <th>4</th>\n",
       "      <td>ROW5</td>\n",
       "      <td>Andaman &amp; Nicobar Islands</td>\n",
       "      <td>1905</td>\n",
       "      <td>1.3</td>\n",
       "      <td>0.0</td>\n",
       "      <td>3.3</td>\n",
       "      <td>26.9</td>\n",
       "      <td>279.5</td>\n",
       "      <td>628.7</td>\n",
       "      <td>368.7</td>\n",
       "      <td>...</td>\n",
       "      <td>260.7</td>\n",
       "      <td>25.4</td>\n",
       "      <td>344.7</td>\n",
       "      <td>2566.7</td>\n",
       "      <td>1.3</td>\n",
       "      <td>309.7</td>\n",
       "      <td>1624.9</td>\n",
       "      <td>630.8</td>\n",
       "      <td>12.61124</td>\n",
       "      <td>92.83165</td>\n",
       "    </tr>\n",
       "  </tbody>\n",
       "</table>\n",
       "<p>5 rows × 22 columns</p>\n",
       "</div>"
      ],
      "text/plain": [
       "   Name                SUBDIVISION  YEAR   JAN    FEB   MAR    APR    MAY  \\\n",
       "0  ROW1  Andaman & Nicobar Islands  1901  49.2   87.1  29.2    2.3  528.8   \n",
       "1  ROW2  Andaman & Nicobar Islands  1902   0.0  159.8  12.2    0.0  446.1   \n",
       "2  ROW3  Andaman & Nicobar Islands  1903  12.7  144.0   0.0    1.0  235.1   \n",
       "3  ROW4  Andaman & Nicobar Islands  1904   9.4   14.7   0.0  202.4  304.5   \n",
       "4  ROW5  Andaman & Nicobar Islands  1905   1.3    0.0   3.3   26.9  279.5   \n",
       "\n",
       "     JUN    JUL  ...    OCT    NOV    DEC  ANNUAL  Jan-Feb  Mar-May  \\\n",
       "0  517.5  365.1  ...  388.5  558.2   33.6  3373.2    136.3    560.3   \n",
       "1  537.1  228.9  ...  197.2  359.0  160.5  3520.7    159.8    458.3   \n",
       "2  479.9  728.4  ...  181.2  284.4  225.0  2957.4    156.7    236.1   \n",
       "3  495.1  502.0  ...  222.2  308.7   40.1  3079.6     24.1    506.9   \n",
       "4  628.7  368.7  ...  260.7   25.4  344.7  2566.7      1.3    309.7   \n",
       "\n",
       "   June-September  Oct-Dec  Latitude  Longitude  \n",
       "0          1696.3    980.3  12.61124   92.83165  \n",
       "1          2185.9    716.7  12.61124   92.83165  \n",
       "2          1874.0    690.6  12.61124   92.83165  \n",
       "3          1977.6    571.0  12.61124   92.83165  \n",
       "4          1624.9    630.8  12.61124   92.83165  \n",
       "\n",
       "[5 rows x 22 columns]"
      ]
     },
     "execution_count": 13,
     "metadata": {},
     "output_type": "execute_result"
    }
   ],
   "source": [
    "df=pd.read_csv('file:///F:/Rainfall_Data_LL.csv')\n",
    "df.head()"
   ]
  },
  {
   "cell_type": "code",
   "execution_count": 14,
   "metadata": {},
   "outputs": [
    {
     "data": {
      "text/plain": [
       "(4187, 22)"
      ]
     },
     "execution_count": 14,
     "metadata": {},
     "output_type": "execute_result"
    }
   ],
   "source": [
    "df.shape"
   ]
  },
  {
   "cell_type": "code",
   "execution_count": 15,
   "metadata": {},
   "outputs": [
    {
     "name": "stdout",
     "output_type": "stream",
     "text": [
      "<class 'pandas.core.frame.DataFrame'>\n",
      "RangeIndex: 4187 entries, 0 to 4186\n",
      "Data columns (total 22 columns):\n",
      " #   Column          Non-Null Count  Dtype  \n",
      "---  ------          --------------  -----  \n",
      " 0   Name            4187 non-null   object \n",
      " 1   SUBDIVISION     4187 non-null   object \n",
      " 2   YEAR            4187 non-null   int64  \n",
      " 3   JAN             4187 non-null   float64\n",
      " 4   FEB             4187 non-null   float64\n",
      " 5   MAR             4187 non-null   float64\n",
      " 6   APR             4187 non-null   float64\n",
      " 7   MAY             4187 non-null   float64\n",
      " 8   JUN             4187 non-null   float64\n",
      " 9   JUL             4187 non-null   float64\n",
      " 10  AUG             4187 non-null   float64\n",
      " 11  SEP             4187 non-null   float64\n",
      " 12  OCT             4187 non-null   float64\n",
      " 13  NOV             4187 non-null   float64\n",
      " 14  DEC             4187 non-null   float64\n",
      " 15  ANNUAL          4187 non-null   float64\n",
      " 16  Jan-Feb         4187 non-null   float64\n",
      " 17  Mar-May         4187 non-null   float64\n",
      " 18  June-September  4187 non-null   float64\n",
      " 19  Oct-Dec         4187 non-null   float64\n",
      " 20  Latitude        4187 non-null   float64\n",
      " 21  Longitude       4187 non-null   float64\n",
      "dtypes: float64(19), int64(1), object(2)\n",
      "memory usage: 719.8+ KB\n"
     ]
    }
   ],
   "source": [
    "df.info()"
   ]
  },
  {
   "cell_type": "code",
   "execution_count": 16,
   "metadata": {},
   "outputs": [
    {
     "data": {
      "text/html": [
       "<div>\n",
       "<style scoped>\n",
       "    .dataframe tbody tr th:only-of-type {\n",
       "        vertical-align: middle;\n",
       "    }\n",
       "\n",
       "    .dataframe tbody tr th {\n",
       "        vertical-align: top;\n",
       "    }\n",
       "\n",
       "    .dataframe thead th {\n",
       "        text-align: right;\n",
       "    }\n",
       "</style>\n",
       "<table border=\"1\" class=\"dataframe\">\n",
       "  <thead>\n",
       "    <tr style=\"text-align: right;\">\n",
       "      <th></th>\n",
       "      <th>YEAR</th>\n",
       "      <th>JAN</th>\n",
       "      <th>FEB</th>\n",
       "      <th>MAR</th>\n",
       "      <th>APR</th>\n",
       "      <th>MAY</th>\n",
       "      <th>JUN</th>\n",
       "      <th>JUL</th>\n",
       "      <th>AUG</th>\n",
       "      <th>SEP</th>\n",
       "      <th>OCT</th>\n",
       "      <th>NOV</th>\n",
       "      <th>DEC</th>\n",
       "      <th>ANNUAL</th>\n",
       "      <th>Jan-Feb</th>\n",
       "      <th>Mar-May</th>\n",
       "      <th>June-September</th>\n",
       "      <th>Oct-Dec</th>\n",
       "      <th>Latitude</th>\n",
       "      <th>Longitude</th>\n",
       "    </tr>\n",
       "  </thead>\n",
       "  <tbody>\n",
       "    <tr>\n",
       "      <th>count</th>\n",
       "      <td>4187.000000</td>\n",
       "      <td>4187.000000</td>\n",
       "      <td>4187.000000</td>\n",
       "      <td>4187.000000</td>\n",
       "      <td>4187.000000</td>\n",
       "      <td>4187.000000</td>\n",
       "      <td>4187.000000</td>\n",
       "      <td>4187.000000</td>\n",
       "      <td>4187.000000</td>\n",
       "      <td>4187.000000</td>\n",
       "      <td>4187.000000</td>\n",
       "      <td>4187.000000</td>\n",
       "      <td>4187.000000</td>\n",
       "      <td>4187.000000</td>\n",
       "      <td>4187.000000</td>\n",
       "      <td>4187.000000</td>\n",
       "      <td>4187.000000</td>\n",
       "      <td>4187.000000</td>\n",
       "      <td>4187.000000</td>\n",
       "      <td>4187.000000</td>\n",
       "    </tr>\n",
       "    <tr>\n",
       "      <th>mean</th>\n",
       "      <td>1959.206831</td>\n",
       "      <td>18.937772</td>\n",
       "      <td>21.604374</td>\n",
       "      <td>27.395503</td>\n",
       "      <td>43.081712</td>\n",
       "      <td>85.646511</td>\n",
       "      <td>230.047704</td>\n",
       "      <td>347.063780</td>\n",
       "      <td>289.762156</td>\n",
       "      <td>197.311863</td>\n",
       "      <td>95.314713</td>\n",
       "      <td>39.490685</td>\n",
       "      <td>18.934858</td>\n",
       "      <td>1414.591631</td>\n",
       "      <td>40.542146</td>\n",
       "      <td>156.123726</td>\n",
       "      <td>1064.185504</td>\n",
       "      <td>153.740255</td>\n",
       "      <td>21.912044</td>\n",
       "      <td>79.909447</td>\n",
       "    </tr>\n",
       "    <tr>\n",
       "      <th>std</th>\n",
       "      <td>33.709294</td>\n",
       "      <td>33.780997</td>\n",
       "      <td>35.721764</td>\n",
       "      <td>46.886429</td>\n",
       "      <td>68.123572</td>\n",
       "      <td>122.662312</td>\n",
       "      <td>234.136680</td>\n",
       "      <td>268.643091</td>\n",
       "      <td>188.354112</td>\n",
       "      <td>135.466361</td>\n",
       "      <td>99.121632</td>\n",
       "      <td>68.275998</td>\n",
       "      <td>42.952083</td>\n",
       "      <td>905.706627</td>\n",
       "      <td>59.271964</td>\n",
       "      <td>201.297829</td>\n",
       "      <td>706.413643</td>\n",
       "      <td>166.854827</td>\n",
       "      <td>6.365097</td>\n",
       "      <td>6.235477</td>\n",
       "    </tr>\n",
       "    <tr>\n",
       "      <th>min</th>\n",
       "      <td>1901.000000</td>\n",
       "      <td>0.000000</td>\n",
       "      <td>0.000000</td>\n",
       "      <td>0.000000</td>\n",
       "      <td>0.000000</td>\n",
       "      <td>0.000000</td>\n",
       "      <td>0.400000</td>\n",
       "      <td>0.000000</td>\n",
       "      <td>0.000000</td>\n",
       "      <td>0.100000</td>\n",
       "      <td>0.000000</td>\n",
       "      <td>0.000000</td>\n",
       "      <td>0.000000</td>\n",
       "      <td>62.200000</td>\n",
       "      <td>0.000000</td>\n",
       "      <td>0.000000</td>\n",
       "      <td>57.400000</td>\n",
       "      <td>0.000000</td>\n",
       "      <td>10.160618</td>\n",
       "      <td>70.568914</td>\n",
       "    </tr>\n",
       "    <tr>\n",
       "      <th>25%</th>\n",
       "      <td>1930.000000</td>\n",
       "      <td>0.600000</td>\n",
       "      <td>0.500000</td>\n",
       "      <td>1.000000</td>\n",
       "      <td>3.000000</td>\n",
       "      <td>8.650000</td>\n",
       "      <td>70.850000</td>\n",
       "      <td>176.050000</td>\n",
       "      <td>155.950000</td>\n",
       "      <td>100.400000</td>\n",
       "      <td>14.600000</td>\n",
       "      <td>0.600000</td>\n",
       "      <td>0.100000</td>\n",
       "      <td>804.950000</td>\n",
       "      <td>4.000000</td>\n",
       "      <td>24.200000</td>\n",
       "      <td>574.150000</td>\n",
       "      <td>34.150000</td>\n",
       "      <td>17.538193</td>\n",
       "      <td>75.061520</td>\n",
       "    </tr>\n",
       "    <tr>\n",
       "      <th>50%</th>\n",
       "      <td>1959.000000</td>\n",
       "      <td>6.000000</td>\n",
       "      <td>6.500000</td>\n",
       "      <td>7.900000</td>\n",
       "      <td>15.500000</td>\n",
       "      <td>36.900000</td>\n",
       "      <td>138.900000</td>\n",
       "      <td>285.300000</td>\n",
       "      <td>258.900000</td>\n",
       "      <td>173.900000</td>\n",
       "      <td>65.700000</td>\n",
       "      <td>9.400000</td>\n",
       "      <td>3.100000</td>\n",
       "      <td>1123.300000</td>\n",
       "      <td>19.000000</td>\n",
       "      <td>75.100000</td>\n",
       "      <td>881.200000</td>\n",
       "      <td>98.300000</td>\n",
       "      <td>23.059981</td>\n",
       "      <td>78.026702</td>\n",
       "    </tr>\n",
       "    <tr>\n",
       "      <th>75%</th>\n",
       "      <td>1988.000000</td>\n",
       "      <td>22.000000</td>\n",
       "      <td>26.600000</td>\n",
       "      <td>31.300000</td>\n",
       "      <td>49.550000</td>\n",
       "      <td>97.500000</td>\n",
       "      <td>303.850000</td>\n",
       "      <td>418.400000</td>\n",
       "      <td>377.550000</td>\n",
       "      <td>265.850000</td>\n",
       "      <td>148.100000</td>\n",
       "      <td>45.000000</td>\n",
       "      <td>17.650000</td>\n",
       "      <td>1650.300000</td>\n",
       "      <td>50.200000</td>\n",
       "      <td>197.600000</td>\n",
       "      <td>1287.450000</td>\n",
       "      <td>211.550000</td>\n",
       "      <td>26.599363</td>\n",
       "      <td>82.868991</td>\n",
       "    </tr>\n",
       "    <tr>\n",
       "      <th>max</th>\n",
       "      <td>2017.000000</td>\n",
       "      <td>583.700000</td>\n",
       "      <td>403.500000</td>\n",
       "      <td>605.600000</td>\n",
       "      <td>595.100000</td>\n",
       "      <td>1168.600000</td>\n",
       "      <td>1609.900000</td>\n",
       "      <td>2362.800000</td>\n",
       "      <td>1664.600000</td>\n",
       "      <td>1222.000000</td>\n",
       "      <td>948.300000</td>\n",
       "      <td>648.900000</td>\n",
       "      <td>617.500000</td>\n",
       "      <td>6331.100000</td>\n",
       "      <td>699.500000</td>\n",
       "      <td>1745.800000</td>\n",
       "      <td>4537.000000</td>\n",
       "      <td>1252.500000</td>\n",
       "      <td>33.557450</td>\n",
       "      <td>94.592130</td>\n",
       "    </tr>\n",
       "  </tbody>\n",
       "</table>\n",
       "</div>"
      ],
      "text/plain": [
       "              YEAR          JAN          FEB          MAR          APR  \\\n",
       "count  4187.000000  4187.000000  4187.000000  4187.000000  4187.000000   \n",
       "mean   1959.206831    18.937772    21.604374    27.395503    43.081712   \n",
       "std      33.709294    33.780997    35.721764    46.886429    68.123572   \n",
       "min    1901.000000     0.000000     0.000000     0.000000     0.000000   \n",
       "25%    1930.000000     0.600000     0.500000     1.000000     3.000000   \n",
       "50%    1959.000000     6.000000     6.500000     7.900000    15.500000   \n",
       "75%    1988.000000    22.000000    26.600000    31.300000    49.550000   \n",
       "max    2017.000000   583.700000   403.500000   605.600000   595.100000   \n",
       "\n",
       "               MAY          JUN          JUL          AUG          SEP  \\\n",
       "count  4187.000000  4187.000000  4187.000000  4187.000000  4187.000000   \n",
       "mean     85.646511   230.047704   347.063780   289.762156   197.311863   \n",
       "std     122.662312   234.136680   268.643091   188.354112   135.466361   \n",
       "min       0.000000     0.400000     0.000000     0.000000     0.100000   \n",
       "25%       8.650000    70.850000   176.050000   155.950000   100.400000   \n",
       "50%      36.900000   138.900000   285.300000   258.900000   173.900000   \n",
       "75%      97.500000   303.850000   418.400000   377.550000   265.850000   \n",
       "max    1168.600000  1609.900000  2362.800000  1664.600000  1222.000000   \n",
       "\n",
       "               OCT          NOV          DEC       ANNUAL      Jan-Feb  \\\n",
       "count  4187.000000  4187.000000  4187.000000  4187.000000  4187.000000   \n",
       "mean     95.314713    39.490685    18.934858  1414.591631    40.542146   \n",
       "std      99.121632    68.275998    42.952083   905.706627    59.271964   \n",
       "min       0.000000     0.000000     0.000000    62.200000     0.000000   \n",
       "25%      14.600000     0.600000     0.100000   804.950000     4.000000   \n",
       "50%      65.700000     9.400000     3.100000  1123.300000    19.000000   \n",
       "75%     148.100000    45.000000    17.650000  1650.300000    50.200000   \n",
       "max     948.300000   648.900000   617.500000  6331.100000   699.500000   \n",
       "\n",
       "           Mar-May  June-September      Oct-Dec     Latitude    Longitude  \n",
       "count  4187.000000     4187.000000  4187.000000  4187.000000  4187.000000  \n",
       "mean    156.123726     1064.185504   153.740255    21.912044    79.909447  \n",
       "std     201.297829      706.413643   166.854827     6.365097     6.235477  \n",
       "min       0.000000       57.400000     0.000000    10.160618    70.568914  \n",
       "25%      24.200000      574.150000    34.150000    17.538193    75.061520  \n",
       "50%      75.100000      881.200000    98.300000    23.059981    78.026702  \n",
       "75%     197.600000     1287.450000   211.550000    26.599363    82.868991  \n",
       "max    1745.800000     4537.000000  1252.500000    33.557450    94.592130  "
      ]
     },
     "execution_count": 16,
     "metadata": {},
     "output_type": "execute_result"
    }
   ],
   "source": [
    "df.describe()"
   ]
  },
  {
   "cell_type": "code",
   "execution_count": 17,
   "metadata": {},
   "outputs": [
    {
     "data": {
      "text/html": [
       "<div>\n",
       "<style scoped>\n",
       "    .dataframe tbody tr th:only-of-type {\n",
       "        vertical-align: middle;\n",
       "    }\n",
       "\n",
       "    .dataframe tbody tr th {\n",
       "        vertical-align: top;\n",
       "    }\n",
       "\n",
       "    .dataframe thead th {\n",
       "        text-align: right;\n",
       "    }\n",
       "</style>\n",
       "<table border=\"1\" class=\"dataframe\">\n",
       "  <thead>\n",
       "    <tr style=\"text-align: right;\">\n",
       "      <th></th>\n",
       "      <th>count</th>\n",
       "      <th>mean</th>\n",
       "      <th>std</th>\n",
       "      <th>min</th>\n",
       "      <th>25%</th>\n",
       "      <th>50%</th>\n",
       "      <th>75%</th>\n",
       "      <th>max</th>\n",
       "    </tr>\n",
       "  </thead>\n",
       "  <tbody>\n",
       "    <tr>\n",
       "      <th>YEAR</th>\n",
       "      <td>20.0</td>\n",
       "      <td>0.039952</td>\n",
       "      <td>0.226818</td>\n",
       "      <td>-0.054902</td>\n",
       "      <td>-0.016044</td>\n",
       "      <td>-0.009557</td>\n",
       "      <td>0.005002</td>\n",
       "      <td>1.0</td>\n",
       "    </tr>\n",
       "    <tr>\n",
       "      <th>JAN</th>\n",
       "      <td>20.0</td>\n",
       "      <td>0.202226</td>\n",
       "      <td>0.285566</td>\n",
       "      <td>-0.054902</td>\n",
       "      <td>0.012421</td>\n",
       "      <td>0.106020</td>\n",
       "      <td>0.251208</td>\n",
       "      <td>1.0</td>\n",
       "    </tr>\n",
       "    <tr>\n",
       "      <th>FEB</th>\n",
       "      <td>20.0</td>\n",
       "      <td>0.250667</td>\n",
       "      <td>0.293171</td>\n",
       "      <td>-0.031058</td>\n",
       "      <td>0.031383</td>\n",
       "      <td>0.158167</td>\n",
       "      <td>0.389640</td>\n",
       "      <td>1.0</td>\n",
       "    </tr>\n",
       "    <tr>\n",
       "      <th>MAR</th>\n",
       "      <td>20.0</td>\n",
       "      <td>0.310139</td>\n",
       "      <td>0.255614</td>\n",
       "      <td>0.009119</td>\n",
       "      <td>0.123139</td>\n",
       "      <td>0.251875</td>\n",
       "      <td>0.434996</td>\n",
       "      <td>1.0</td>\n",
       "    </tr>\n",
       "    <tr>\n",
       "      <th>APR</th>\n",
       "      <td>20.0</td>\n",
       "      <td>0.398686</td>\n",
       "      <td>0.250068</td>\n",
       "      <td>0.006592</td>\n",
       "      <td>0.243864</td>\n",
       "      <td>0.368530</td>\n",
       "      <td>0.561131</td>\n",
       "      <td>1.0</td>\n",
       "    </tr>\n",
       "    <tr>\n",
       "      <th>MAY</th>\n",
       "      <td>20.0</td>\n",
       "      <td>0.425015</td>\n",
       "      <td>0.281650</td>\n",
       "      <td>-0.126544</td>\n",
       "      <td>0.236965</td>\n",
       "      <td>0.428068</td>\n",
       "      <td>0.575805</td>\n",
       "      <td>1.0</td>\n",
       "    </tr>\n",
       "    <tr>\n",
       "      <th>JUN</th>\n",
       "      <td>20.0</td>\n",
       "      <td>0.384985</td>\n",
       "      <td>0.356832</td>\n",
       "      <td>-0.294150</td>\n",
       "      <td>0.076060</td>\n",
       "      <td>0.429805</td>\n",
       "      <td>0.588200</td>\n",
       "      <td>1.0</td>\n",
       "    </tr>\n",
       "    <tr>\n",
       "      <th>JUL</th>\n",
       "      <td>20.0</td>\n",
       "      <td>0.305409</td>\n",
       "      <td>0.353408</td>\n",
       "      <td>-0.165874</td>\n",
       "      <td>0.008146</td>\n",
       "      <td>0.227425</td>\n",
       "      <td>0.556965</td>\n",
       "      <td>1.0</td>\n",
       "    </tr>\n",
       "    <tr>\n",
       "      <th>AUG</th>\n",
       "      <td>20.0</td>\n",
       "      <td>0.314816</td>\n",
       "      <td>0.319061</td>\n",
       "      <td>-0.053523</td>\n",
       "      <td>0.042310</td>\n",
       "      <td>0.254009</td>\n",
       "      <td>0.536985</td>\n",
       "      <td>1.0</td>\n",
       "    </tr>\n",
       "    <tr>\n",
       "      <th>SEP</th>\n",
       "      <td>20.0</td>\n",
       "      <td>0.352488</td>\n",
       "      <td>0.288523</td>\n",
       "      <td>-0.128920</td>\n",
       "      <td>0.106839</td>\n",
       "      <td>0.384886</td>\n",
       "      <td>0.517454</td>\n",
       "      <td>1.0</td>\n",
       "    </tr>\n",
       "    <tr>\n",
       "      <th>OCT</th>\n",
       "      <td>20.0</td>\n",
       "      <td>0.319006</td>\n",
       "      <td>0.332109</td>\n",
       "      <td>-0.498207</td>\n",
       "      <td>0.069849</td>\n",
       "      <td>0.360927</td>\n",
       "      <td>0.480883</td>\n",
       "      <td>1.0</td>\n",
       "    </tr>\n",
       "    <tr>\n",
       "      <th>NOV</th>\n",
       "      <td>20.0</td>\n",
       "      <td>0.201791</td>\n",
       "      <td>0.325542</td>\n",
       "      <td>-0.552960</td>\n",
       "      <td>0.025708</td>\n",
       "      <td>0.140889</td>\n",
       "      <td>0.320148</td>\n",
       "      <td>1.0</td>\n",
       "    </tr>\n",
       "    <tr>\n",
       "      <th>DEC</th>\n",
       "      <td>20.0</td>\n",
       "      <td>0.198129</td>\n",
       "      <td>0.258227</td>\n",
       "      <td>-0.235068</td>\n",
       "      <td>0.078650</td>\n",
       "      <td>0.131195</td>\n",
       "      <td>0.233172</td>\n",
       "      <td>1.0</td>\n",
       "    </tr>\n",
       "    <tr>\n",
       "      <th>ANNUAL</th>\n",
       "      <td>20.0</td>\n",
       "      <td>0.488856</td>\n",
       "      <td>0.340580</td>\n",
       "      <td>-0.228384</td>\n",
       "      <td>0.204721</td>\n",
       "      <td>0.555023</td>\n",
       "      <td>0.727187</td>\n",
       "      <td>1.0</td>\n",
       "    </tr>\n",
       "    <tr>\n",
       "      <th>Jan-Feb</th>\n",
       "      <td>20.0</td>\n",
       "      <td>0.266326</td>\n",
       "      <td>0.319836</td>\n",
       "      <td>-0.050008</td>\n",
       "      <td>0.025601</td>\n",
       "      <td>0.181941</td>\n",
       "      <td>0.377998</td>\n",
       "      <td>1.0</td>\n",
       "    </tr>\n",
       "    <tr>\n",
       "      <th>Mar-May</th>\n",
       "      <td>20.0</td>\n",
       "      <td>0.466148</td>\n",
       "      <td>0.268284</td>\n",
       "      <td>0.008404</td>\n",
       "      <td>0.303181</td>\n",
       "      <td>0.457240</td>\n",
       "      <td>0.641315</td>\n",
       "      <td>1.0</td>\n",
       "    </tr>\n",
       "    <tr>\n",
       "      <th>June-September</th>\n",
       "      <td>20.0</td>\n",
       "      <td>0.395282</td>\n",
       "      <td>0.376811</td>\n",
       "      <td>-0.199568</td>\n",
       "      <td>0.050445</td>\n",
       "      <td>0.376100</td>\n",
       "      <td>0.737426</td>\n",
       "      <td>1.0</td>\n",
       "    </tr>\n",
       "    <tr>\n",
       "      <th>Oct-Dec</th>\n",
       "      <td>20.0</td>\n",
       "      <td>0.323083</td>\n",
       "      <td>0.356461</td>\n",
       "      <td>-0.582744</td>\n",
       "      <td>0.094397</td>\n",
       "      <td>0.315182</td>\n",
       "      <td>0.523881</td>\n",
       "      <td>1.0</td>\n",
       "    </tr>\n",
       "    <tr>\n",
       "      <th>Latitude</th>\n",
       "      <td>20.0</td>\n",
       "      <td>-0.017872</td>\n",
       "      <td>0.379604</td>\n",
       "      <td>-0.582744</td>\n",
       "      <td>-0.230055</td>\n",
       "      <td>-0.090033</td>\n",
       "      <td>0.169776</td>\n",
       "      <td>1.0</td>\n",
       "    </tr>\n",
       "    <tr>\n",
       "      <th>Longitude</th>\n",
       "      <td>20.0</td>\n",
       "      <td>0.345448</td>\n",
       "      <td>0.237225</td>\n",
       "      <td>0.014646</td>\n",
       "      <td>0.162236</td>\n",
       "      <td>0.321801</td>\n",
       "      <td>0.499464</td>\n",
       "      <td>1.0</td>\n",
       "    </tr>\n",
       "  </tbody>\n",
       "</table>\n",
       "</div>"
      ],
      "text/plain": [
       "                count      mean       std       min       25%       50%  \\\n",
       "YEAR             20.0  0.039952  0.226818 -0.054902 -0.016044 -0.009557   \n",
       "JAN              20.0  0.202226  0.285566 -0.054902  0.012421  0.106020   \n",
       "FEB              20.0  0.250667  0.293171 -0.031058  0.031383  0.158167   \n",
       "MAR              20.0  0.310139  0.255614  0.009119  0.123139  0.251875   \n",
       "APR              20.0  0.398686  0.250068  0.006592  0.243864  0.368530   \n",
       "MAY              20.0  0.425015  0.281650 -0.126544  0.236965  0.428068   \n",
       "JUN              20.0  0.384985  0.356832 -0.294150  0.076060  0.429805   \n",
       "JUL              20.0  0.305409  0.353408 -0.165874  0.008146  0.227425   \n",
       "AUG              20.0  0.314816  0.319061 -0.053523  0.042310  0.254009   \n",
       "SEP              20.0  0.352488  0.288523 -0.128920  0.106839  0.384886   \n",
       "OCT              20.0  0.319006  0.332109 -0.498207  0.069849  0.360927   \n",
       "NOV              20.0  0.201791  0.325542 -0.552960  0.025708  0.140889   \n",
       "DEC              20.0  0.198129  0.258227 -0.235068  0.078650  0.131195   \n",
       "ANNUAL           20.0  0.488856  0.340580 -0.228384  0.204721  0.555023   \n",
       "Jan-Feb          20.0  0.266326  0.319836 -0.050008  0.025601  0.181941   \n",
       "Mar-May          20.0  0.466148  0.268284  0.008404  0.303181  0.457240   \n",
       "June-September   20.0  0.395282  0.376811 -0.199568  0.050445  0.376100   \n",
       "Oct-Dec          20.0  0.323083  0.356461 -0.582744  0.094397  0.315182   \n",
       "Latitude         20.0 -0.017872  0.379604 -0.582744 -0.230055 -0.090033   \n",
       "Longitude        20.0  0.345448  0.237225  0.014646  0.162236  0.321801   \n",
       "\n",
       "                     75%  max  \n",
       "YEAR            0.005002  1.0  \n",
       "JAN             0.251208  1.0  \n",
       "FEB             0.389640  1.0  \n",
       "MAR             0.434996  1.0  \n",
       "APR             0.561131  1.0  \n",
       "MAY             0.575805  1.0  \n",
       "JUN             0.588200  1.0  \n",
       "JUL             0.556965  1.0  \n",
       "AUG             0.536985  1.0  \n",
       "SEP             0.517454  1.0  \n",
       "OCT             0.480883  1.0  \n",
       "NOV             0.320148  1.0  \n",
       "DEC             0.233172  1.0  \n",
       "ANNUAL          0.727187  1.0  \n",
       "Jan-Feb         0.377998  1.0  \n",
       "Mar-May         0.641315  1.0  \n",
       "June-September  0.737426  1.0  \n",
       "Oct-Dec         0.523881  1.0  \n",
       "Latitude        0.169776  1.0  \n",
       "Longitude       0.499464  1.0  "
      ]
     },
     "execution_count": 17,
     "metadata": {},
     "output_type": "execute_result"
    }
   ],
   "source": [
    "df.corr().describe().T"
   ]
  },
  {
   "cell_type": "code",
   "execution_count": 18,
   "metadata": {},
   "outputs": [
    {
     "data": {
      "text/plain": [
       "Name                                   ROW1\n",
       "SUBDIVISION       Andaman & Nicobar Islands\n",
       "YEAR                                   1901\n",
       "JAN                                     0.0\n",
       "FEB                                     0.0\n",
       "MAR                                     0.0\n",
       "APR                                     0.0\n",
       "MAY                                     0.0\n",
       "JUN                                     0.4\n",
       "JUL                                     0.0\n",
       "AUG                                     0.0\n",
       "SEP                                     0.1\n",
       "OCT                                     0.0\n",
       "NOV                                     0.0\n",
       "DEC                                     0.0\n",
       "ANNUAL                                 62.2\n",
       "Jan-Feb                                 0.0\n",
       "Mar-May                                 0.0\n",
       "June-September                         57.4\n",
       "Oct-Dec                                 0.0\n",
       "Latitude                          10.160618\n",
       "Longitude                         70.568914\n",
       "dtype: object"
      ]
     },
     "execution_count": 18,
     "metadata": {},
     "output_type": "execute_result"
    }
   ],
   "source": [
    "df.min()"
   ]
  },
  {
   "cell_type": "code",
   "execution_count": 19,
   "metadata": {},
   "outputs": [
    {
     "data": {
      "text/plain": [
       "Name                          ROW999\n",
       "SUBDIVISION       West Uttar Pradesh\n",
       "YEAR                            2017\n",
       "JAN                            583.7\n",
       "FEB                            403.5\n",
       "MAR                            605.6\n",
       "APR                            595.1\n",
       "MAY                           1168.6\n",
       "JUN                           1609.9\n",
       "JUL                           2362.8\n",
       "AUG                           1664.6\n",
       "SEP                           1222.0\n",
       "OCT                            948.3\n",
       "NOV                            648.9\n",
       "DEC                            617.5\n",
       "ANNUAL                        6331.1\n",
       "Jan-Feb                        699.5\n",
       "Mar-May                       1745.8\n",
       "June-September                4537.0\n",
       "Oct-Dec                       1252.5\n",
       "Latitude                    33.55745\n",
       "Longitude                   94.59213\n",
       "dtype: object"
      ]
     },
     "execution_count": 19,
     "metadata": {},
     "output_type": "execute_result"
    }
   ],
   "source": [
    "df.max()"
   ]
  },
  {
   "cell_type": "code",
   "execution_count": 20,
   "metadata": {},
   "outputs": [
    {
     "name": "stderr",
     "output_type": "stream",
     "text": [
      "C:\\Users\\Md Asif Ikbal\\anaconda3\\lib\\site-packages\\ipykernel_launcher.py:1: FutureWarning: Dropping of nuisance columns in DataFrame reductions (with 'numeric_only=None') is deprecated; in a future version this will raise TypeError.  Select only valid columns before calling the reduction.\n",
      "  \"\"\"Entry point for launching an IPython kernel.\n"
     ]
    },
    {
     "data": {
      "text/plain": [
       "YEAR              1959.206831\n",
       "JAN                 18.937772\n",
       "FEB                 21.604374\n",
       "MAR                 27.395503\n",
       "APR                 43.081712\n",
       "MAY                 85.646511\n",
       "JUN                230.047704\n",
       "JUL                347.063780\n",
       "AUG                289.762156\n",
       "SEP                197.311863\n",
       "OCT                 95.314713\n",
       "NOV                 39.490685\n",
       "DEC                 18.934858\n",
       "ANNUAL            1414.591631\n",
       "Jan-Feb             40.542146\n",
       "Mar-May            156.123726\n",
       "June-September    1064.185504\n",
       "Oct-Dec            153.740255\n",
       "Latitude            21.912044\n",
       "Longitude           79.909447\n",
       "dtype: float64"
      ]
     },
     "execution_count": 20,
     "metadata": {},
     "output_type": "execute_result"
    }
   ],
   "source": [
    "df.mean()"
   ]
  },
  {
   "cell_type": "code",
   "execution_count": 21,
   "metadata": {},
   "outputs": [],
   "source": [
    "df=df.fillna(0)"
   ]
  },
  {
   "cell_type": "code",
   "execution_count": 22,
   "metadata": {},
   "outputs": [
    {
     "data": {
      "text/html": [
       "<div>\n",
       "<style scoped>\n",
       "    .dataframe tbody tr th:only-of-type {\n",
       "        vertical-align: middle;\n",
       "    }\n",
       "\n",
       "    .dataframe tbody tr th {\n",
       "        vertical-align: top;\n",
       "    }\n",
       "\n",
       "    .dataframe thead th {\n",
       "        text-align: right;\n",
       "    }\n",
       "</style>\n",
       "<table border=\"1\" class=\"dataframe\">\n",
       "  <thead>\n",
       "    <tr style=\"text-align: right;\">\n",
       "      <th></th>\n",
       "      <th>Name</th>\n",
       "      <th>SUBDIVISION</th>\n",
       "      <th>YEAR</th>\n",
       "      <th>JAN</th>\n",
       "      <th>FEB</th>\n",
       "      <th>MAR</th>\n",
       "      <th>APR</th>\n",
       "      <th>MAY</th>\n",
       "      <th>JUN</th>\n",
       "      <th>JUL</th>\n",
       "      <th>...</th>\n",
       "      <th>OCT</th>\n",
       "      <th>NOV</th>\n",
       "      <th>DEC</th>\n",
       "      <th>ANNUAL</th>\n",
       "      <th>Jan-Feb</th>\n",
       "      <th>Mar-May</th>\n",
       "      <th>June-September</th>\n",
       "      <th>Oct-Dec</th>\n",
       "      <th>Latitude</th>\n",
       "      <th>Longitude</th>\n",
       "    </tr>\n",
       "  </thead>\n",
       "  <tbody>\n",
       "    <tr>\n",
       "      <th>0</th>\n",
       "      <td>ROW1</td>\n",
       "      <td>Andaman &amp; Nicobar Islands</td>\n",
       "      <td>1901</td>\n",
       "      <td>49.2</td>\n",
       "      <td>87.1</td>\n",
       "      <td>29.2</td>\n",
       "      <td>2.3</td>\n",
       "      <td>528.8</td>\n",
       "      <td>517.5</td>\n",
       "      <td>365.1</td>\n",
       "      <td>...</td>\n",
       "      <td>388.5</td>\n",
       "      <td>558.2</td>\n",
       "      <td>33.6</td>\n",
       "      <td>3373.2</td>\n",
       "      <td>136.3</td>\n",
       "      <td>560.3</td>\n",
       "      <td>1696.3</td>\n",
       "      <td>980.3</td>\n",
       "      <td>12.61124</td>\n",
       "      <td>92.83165</td>\n",
       "    </tr>\n",
       "    <tr>\n",
       "      <th>1</th>\n",
       "      <td>ROW2</td>\n",
       "      <td>Andaman &amp; Nicobar Islands</td>\n",
       "      <td>1902</td>\n",
       "      <td>0.0</td>\n",
       "      <td>159.8</td>\n",
       "      <td>12.2</td>\n",
       "      <td>0.0</td>\n",
       "      <td>446.1</td>\n",
       "      <td>537.1</td>\n",
       "      <td>228.9</td>\n",
       "      <td>...</td>\n",
       "      <td>197.2</td>\n",
       "      <td>359.0</td>\n",
       "      <td>160.5</td>\n",
       "      <td>3520.7</td>\n",
       "      <td>159.8</td>\n",
       "      <td>458.3</td>\n",
       "      <td>2185.9</td>\n",
       "      <td>716.7</td>\n",
       "      <td>12.61124</td>\n",
       "      <td>92.83165</td>\n",
       "    </tr>\n",
       "    <tr>\n",
       "      <th>2</th>\n",
       "      <td>ROW3</td>\n",
       "      <td>Andaman &amp; Nicobar Islands</td>\n",
       "      <td>1903</td>\n",
       "      <td>12.7</td>\n",
       "      <td>144.0</td>\n",
       "      <td>0.0</td>\n",
       "      <td>1.0</td>\n",
       "      <td>235.1</td>\n",
       "      <td>479.9</td>\n",
       "      <td>728.4</td>\n",
       "      <td>...</td>\n",
       "      <td>181.2</td>\n",
       "      <td>284.4</td>\n",
       "      <td>225.0</td>\n",
       "      <td>2957.4</td>\n",
       "      <td>156.7</td>\n",
       "      <td>236.1</td>\n",
       "      <td>1874.0</td>\n",
       "      <td>690.6</td>\n",
       "      <td>12.61124</td>\n",
       "      <td>92.83165</td>\n",
       "    </tr>\n",
       "    <tr>\n",
       "      <th>3</th>\n",
       "      <td>ROW4</td>\n",
       "      <td>Andaman &amp; Nicobar Islands</td>\n",
       "      <td>1904</td>\n",
       "      <td>9.4</td>\n",
       "      <td>14.7</td>\n",
       "      <td>0.0</td>\n",
       "      <td>202.4</td>\n",
       "      <td>304.5</td>\n",
       "      <td>495.1</td>\n",
       "      <td>502.0</td>\n",
       "      <td>...</td>\n",
       "      <td>222.2</td>\n",
       "      <td>308.7</td>\n",
       "      <td>40.1</td>\n",
       "      <td>3079.6</td>\n",
       "      <td>24.1</td>\n",
       "      <td>506.9</td>\n",
       "      <td>1977.6</td>\n",
       "      <td>571.0</td>\n",
       "      <td>12.61124</td>\n",
       "      <td>92.83165</td>\n",
       "    </tr>\n",
       "    <tr>\n",
       "      <th>4</th>\n",
       "      <td>ROW5</td>\n",
       "      <td>Andaman &amp; Nicobar Islands</td>\n",
       "      <td>1905</td>\n",
       "      <td>1.3</td>\n",
       "      <td>0.0</td>\n",
       "      <td>3.3</td>\n",
       "      <td>26.9</td>\n",
       "      <td>279.5</td>\n",
       "      <td>628.7</td>\n",
       "      <td>368.7</td>\n",
       "      <td>...</td>\n",
       "      <td>260.7</td>\n",
       "      <td>25.4</td>\n",
       "      <td>344.7</td>\n",
       "      <td>2566.7</td>\n",
       "      <td>1.3</td>\n",
       "      <td>309.7</td>\n",
       "      <td>1624.9</td>\n",
       "      <td>630.8</td>\n",
       "      <td>12.61124</td>\n",
       "      <td>92.83165</td>\n",
       "    </tr>\n",
       "  </tbody>\n",
       "</table>\n",
       "<p>5 rows × 22 columns</p>\n",
       "</div>"
      ],
      "text/plain": [
       "   Name                SUBDIVISION  YEAR   JAN    FEB   MAR    APR    MAY  \\\n",
       "0  ROW1  Andaman & Nicobar Islands  1901  49.2   87.1  29.2    2.3  528.8   \n",
       "1  ROW2  Andaman & Nicobar Islands  1902   0.0  159.8  12.2    0.0  446.1   \n",
       "2  ROW3  Andaman & Nicobar Islands  1903  12.7  144.0   0.0    1.0  235.1   \n",
       "3  ROW4  Andaman & Nicobar Islands  1904   9.4   14.7   0.0  202.4  304.5   \n",
       "4  ROW5  Andaman & Nicobar Islands  1905   1.3    0.0   3.3   26.9  279.5   \n",
       "\n",
       "     JUN    JUL  ...    OCT    NOV    DEC  ANNUAL  Jan-Feb  Mar-May  \\\n",
       "0  517.5  365.1  ...  388.5  558.2   33.6  3373.2    136.3    560.3   \n",
       "1  537.1  228.9  ...  197.2  359.0  160.5  3520.7    159.8    458.3   \n",
       "2  479.9  728.4  ...  181.2  284.4  225.0  2957.4    156.7    236.1   \n",
       "3  495.1  502.0  ...  222.2  308.7   40.1  3079.6     24.1    506.9   \n",
       "4  628.7  368.7  ...  260.7   25.4  344.7  2566.7      1.3    309.7   \n",
       "\n",
       "   June-September  Oct-Dec  Latitude  Longitude  \n",
       "0          1696.3    980.3  12.61124   92.83165  \n",
       "1          2185.9    716.7  12.61124   92.83165  \n",
       "2          1874.0    690.6  12.61124   92.83165  \n",
       "3          1977.6    571.0  12.61124   92.83165  \n",
       "4          1624.9    630.8  12.61124   92.83165  \n",
       "\n",
       "[5 rows x 22 columns]"
      ]
     },
     "execution_count": 22,
     "metadata": {},
     "output_type": "execute_result"
    }
   ],
   "source": [
    "df.head()"
   ]
  },
  {
   "cell_type": "code",
   "execution_count": 24,
   "metadata": {},
   "outputs": [],
   "source": [
    "df=df.drop(['Name'],axis='columns')"
   ]
  },
  {
   "cell_type": "code",
   "execution_count": 25,
   "metadata": {},
   "outputs": [
    {
     "data": {
      "text/plain": [
       "SUBDIVISION        object\n",
       "YEAR                int64\n",
       "JAN               float64\n",
       "FEB               float64\n",
       "MAR               float64\n",
       "APR               float64\n",
       "MAY               float64\n",
       "JUN               float64\n",
       "JUL               float64\n",
       "AUG               float64\n",
       "SEP               float64\n",
       "OCT               float64\n",
       "NOV               float64\n",
       "DEC               float64\n",
       "ANNUAL            float64\n",
       "Jan-Feb           float64\n",
       "Mar-May           float64\n",
       "June-September    float64\n",
       "Oct-Dec           float64\n",
       "Latitude          float64\n",
       "Longitude         float64\n",
       "dtype: object"
      ]
     },
     "execution_count": 25,
     "metadata": {},
     "output_type": "execute_result"
    }
   ],
   "source": [
    "df.dtypes"
   ]
  },
  {
   "cell_type": "code",
   "execution_count": 26,
   "metadata": {},
   "outputs": [],
   "source": [
    "from sklearn.preprocessing import LabelEncoder"
   ]
  },
  {
   "cell_type": "code",
   "execution_count": 29,
   "metadata": {},
   "outputs": [
    {
     "data": {
      "text/html": [
       "<div>\n",
       "<style scoped>\n",
       "    .dataframe tbody tr th:only-of-type {\n",
       "        vertical-align: middle;\n",
       "    }\n",
       "\n",
       "    .dataframe tbody tr th {\n",
       "        vertical-align: top;\n",
       "    }\n",
       "\n",
       "    .dataframe thead th {\n",
       "        text-align: right;\n",
       "    }\n",
       "</style>\n",
       "<table border=\"1\" class=\"dataframe\">\n",
       "  <thead>\n",
       "    <tr style=\"text-align: right;\">\n",
       "      <th></th>\n",
       "      <th>SUBDIVISION</th>\n",
       "      <th>YEAR</th>\n",
       "      <th>JAN</th>\n",
       "      <th>FEB</th>\n",
       "      <th>MAR</th>\n",
       "      <th>APR</th>\n",
       "      <th>MAY</th>\n",
       "      <th>JUN</th>\n",
       "      <th>JUL</th>\n",
       "      <th>AUG</th>\n",
       "      <th>...</th>\n",
       "      <th>OCT</th>\n",
       "      <th>NOV</th>\n",
       "      <th>DEC</th>\n",
       "      <th>ANNUAL</th>\n",
       "      <th>Jan-Feb</th>\n",
       "      <th>Mar-May</th>\n",
       "      <th>June-September</th>\n",
       "      <th>Oct-Dec</th>\n",
       "      <th>Latitude</th>\n",
       "      <th>Longitude</th>\n",
       "    </tr>\n",
       "  </thead>\n",
       "  <tbody>\n",
       "    <tr>\n",
       "      <th>0</th>\n",
       "      <td>Andaman &amp; Nicobar Islands</td>\n",
       "      <td>1901</td>\n",
       "      <td>49.2</td>\n",
       "      <td>87.1</td>\n",
       "      <td>29.2</td>\n",
       "      <td>2.3</td>\n",
       "      <td>528.8</td>\n",
       "      <td>517.5</td>\n",
       "      <td>365.1</td>\n",
       "      <td>481.1</td>\n",
       "      <td>...</td>\n",
       "      <td>388.5</td>\n",
       "      <td>558.2</td>\n",
       "      <td>33.6</td>\n",
       "      <td>3373.2</td>\n",
       "      <td>136.3</td>\n",
       "      <td>560.3</td>\n",
       "      <td>1696.3</td>\n",
       "      <td>980.3</td>\n",
       "      <td>12.61124</td>\n",
       "      <td>92.83165</td>\n",
       "    </tr>\n",
       "    <tr>\n",
       "      <th>1</th>\n",
       "      <td>Andaman &amp; Nicobar Islands</td>\n",
       "      <td>1902</td>\n",
       "      <td>0.0</td>\n",
       "      <td>159.8</td>\n",
       "      <td>12.2</td>\n",
       "      <td>0.0</td>\n",
       "      <td>446.1</td>\n",
       "      <td>537.1</td>\n",
       "      <td>228.9</td>\n",
       "      <td>753.7</td>\n",
       "      <td>...</td>\n",
       "      <td>197.2</td>\n",
       "      <td>359.0</td>\n",
       "      <td>160.5</td>\n",
       "      <td>3520.7</td>\n",
       "      <td>159.8</td>\n",
       "      <td>458.3</td>\n",
       "      <td>2185.9</td>\n",
       "      <td>716.7</td>\n",
       "      <td>12.61124</td>\n",
       "      <td>92.83165</td>\n",
       "    </tr>\n",
       "    <tr>\n",
       "      <th>2</th>\n",
       "      <td>Andaman &amp; Nicobar Islands</td>\n",
       "      <td>1903</td>\n",
       "      <td>12.7</td>\n",
       "      <td>144.0</td>\n",
       "      <td>0.0</td>\n",
       "      <td>1.0</td>\n",
       "      <td>235.1</td>\n",
       "      <td>479.9</td>\n",
       "      <td>728.4</td>\n",
       "      <td>326.7</td>\n",
       "      <td>...</td>\n",
       "      <td>181.2</td>\n",
       "      <td>284.4</td>\n",
       "      <td>225.0</td>\n",
       "      <td>2957.4</td>\n",
       "      <td>156.7</td>\n",
       "      <td>236.1</td>\n",
       "      <td>1874.0</td>\n",
       "      <td>690.6</td>\n",
       "      <td>12.61124</td>\n",
       "      <td>92.83165</td>\n",
       "    </tr>\n",
       "    <tr>\n",
       "      <th>3</th>\n",
       "      <td>Andaman &amp; Nicobar Islands</td>\n",
       "      <td>1904</td>\n",
       "      <td>9.4</td>\n",
       "      <td>14.7</td>\n",
       "      <td>0.0</td>\n",
       "      <td>202.4</td>\n",
       "      <td>304.5</td>\n",
       "      <td>495.1</td>\n",
       "      <td>502.0</td>\n",
       "      <td>160.1</td>\n",
       "      <td>...</td>\n",
       "      <td>222.2</td>\n",
       "      <td>308.7</td>\n",
       "      <td>40.1</td>\n",
       "      <td>3079.6</td>\n",
       "      <td>24.1</td>\n",
       "      <td>506.9</td>\n",
       "      <td>1977.6</td>\n",
       "      <td>571.0</td>\n",
       "      <td>12.61124</td>\n",
       "      <td>92.83165</td>\n",
       "    </tr>\n",
       "    <tr>\n",
       "      <th>4</th>\n",
       "      <td>Andaman &amp; Nicobar Islands</td>\n",
       "      <td>1905</td>\n",
       "      <td>1.3</td>\n",
       "      <td>0.0</td>\n",
       "      <td>3.3</td>\n",
       "      <td>26.9</td>\n",
       "      <td>279.5</td>\n",
       "      <td>628.7</td>\n",
       "      <td>368.7</td>\n",
       "      <td>330.5</td>\n",
       "      <td>...</td>\n",
       "      <td>260.7</td>\n",
       "      <td>25.4</td>\n",
       "      <td>344.7</td>\n",
       "      <td>2566.7</td>\n",
       "      <td>1.3</td>\n",
       "      <td>309.7</td>\n",
       "      <td>1624.9</td>\n",
       "      <td>630.8</td>\n",
       "      <td>12.61124</td>\n",
       "      <td>92.83165</td>\n",
       "    </tr>\n",
       "  </tbody>\n",
       "</table>\n",
       "<p>5 rows × 21 columns</p>\n",
       "</div>"
      ],
      "text/plain": [
       "                 SUBDIVISION  YEAR   JAN    FEB   MAR    APR    MAY    JUN  \\\n",
       "0  Andaman & Nicobar Islands  1901  49.2   87.1  29.2    2.3  528.8  517.5   \n",
       "1  Andaman & Nicobar Islands  1902   0.0  159.8  12.2    0.0  446.1  537.1   \n",
       "2  Andaman & Nicobar Islands  1903  12.7  144.0   0.0    1.0  235.1  479.9   \n",
       "3  Andaman & Nicobar Islands  1904   9.4   14.7   0.0  202.4  304.5  495.1   \n",
       "4  Andaman & Nicobar Islands  1905   1.3    0.0   3.3   26.9  279.5  628.7   \n",
       "\n",
       "     JUL    AUG  ...    OCT    NOV    DEC  ANNUAL  Jan-Feb  Mar-May  \\\n",
       "0  365.1  481.1  ...  388.5  558.2   33.6  3373.2    136.3    560.3   \n",
       "1  228.9  753.7  ...  197.2  359.0  160.5  3520.7    159.8    458.3   \n",
       "2  728.4  326.7  ...  181.2  284.4  225.0  2957.4    156.7    236.1   \n",
       "3  502.0  160.1  ...  222.2  308.7   40.1  3079.6     24.1    506.9   \n",
       "4  368.7  330.5  ...  260.7   25.4  344.7  2566.7      1.3    309.7   \n",
       "\n",
       "   June-September  Oct-Dec  Latitude  Longitude  \n",
       "0          1696.3    980.3  12.61124   92.83165  \n",
       "1          2185.9    716.7  12.61124   92.83165  \n",
       "2          1874.0    690.6  12.61124   92.83165  \n",
       "3          1977.6    571.0  12.61124   92.83165  \n",
       "4          1624.9    630.8  12.61124   92.83165  \n",
       "\n",
       "[5 rows x 21 columns]"
      ]
     },
     "execution_count": 29,
     "metadata": {},
     "output_type": "execute_result"
    }
   ],
   "source": [
    "df.head()"
   ]
  },
  {
   "cell_type": "code",
   "execution_count": 27,
   "metadata": {},
   "outputs": [],
   "source": [
    "le=LabelEncoder()"
   ]
  },
  {
   "cell_type": "code",
   "execution_count": 33,
   "metadata": {},
   "outputs": [],
   "source": [
    "x=df.drop(['SUBDIVISION'],axis='columns')"
   ]
  },
  {
   "cell_type": "code",
   "execution_count": 34,
   "metadata": {},
   "outputs": [],
   "source": [
    "y=df.SUBDIVISION.values"
   ]
  },
  {
   "cell_type": "code",
   "execution_count": 35,
   "metadata": {},
   "outputs": [],
   "source": [
    "xtrain,xtest,ytrain,ytest=train_test_split(x,y,test_size=0.3)"
   ]
  },
  {
   "cell_type": "code",
   "execution_count": 36,
   "metadata": {},
   "outputs": [
    {
     "data": {
      "text/plain": [
       "100.0"
      ]
     },
     "execution_count": 36,
     "metadata": {},
     "output_type": "execute_result"
    }
   ],
   "source": [
    "tre=DecisionTreeClassifier()\n",
    "tre.fit(xtrain,ytrain)\n",
    "pred_tre=tre.predict(xtest)\n",
    "accu_tre=accuracy_score(ytest , pred_tre)*100\n",
    "accu_tre"
   ]
  },
  {
   "cell_type": "code",
   "execution_count": 37,
   "metadata": {
    "collapsed": true
   },
   "outputs": [
    {
     "name": "stdout",
     "output_type": "stream",
     "text": [
      "              precision    recall  f1-score   support\n",
      "\n",
      "           0       1.00      1.00      1.00        42\n",
      "           1       1.00      1.00      1.00        34\n",
      "           2       1.00      1.00      1.00        45\n",
      "           3       1.00      1.00      1.00        34\n",
      "           4       1.00      1.00      1.00        36\n",
      "           5       1.00      1.00      1.00        34\n",
      "           6       1.00      1.00      1.00        33\n",
      "           7       1.00      1.00      1.00        42\n",
      "           8       1.00      1.00      1.00        33\n",
      "           9       1.00      1.00      1.00        29\n",
      "          10       1.00      1.00      1.00        33\n",
      "          11       1.00      1.00      1.00        41\n",
      "          12       1.00      1.00      1.00        32\n",
      "          13       1.00      1.00      1.00        38\n",
      "          14       1.00      1.00      1.00        30\n",
      "          15       1.00      1.00      1.00        39\n",
      "          16       1.00      1.00      1.00        27\n",
      "          17       1.00      1.00      1.00        27\n",
      "          18       1.00      1.00      1.00        39\n",
      "          19       1.00      1.00      1.00        28\n",
      "          20       1.00      1.00      1.00        37\n",
      "          21       1.00      1.00      1.00        38\n",
      "          22       1.00      1.00      1.00        37\n",
      "          23       1.00      1.00      1.00        32\n",
      "          24       1.00      1.00      1.00        32\n",
      "          25       1.00      1.00      1.00        30\n",
      "          26       1.00      1.00      1.00        32\n",
      "          27       1.00      1.00      1.00        44\n",
      "          28       1.00      1.00      1.00        34\n",
      "          29       1.00      1.00      1.00        43\n",
      "          30       1.00      1.00      1.00        32\n",
      "          31       1.00      1.00      1.00        35\n",
      "          32       1.00      1.00      1.00        32\n",
      "          33       1.00      1.00      1.00        35\n",
      "          34       1.00      1.00      1.00        36\n",
      "          35       1.00      1.00      1.00        32\n",
      "\n",
      "    accuracy                           1.00      1257\n",
      "   macro avg       1.00      1.00      1.00      1257\n",
      "weighted avg       1.00      1.00      1.00      1257\n",
      "\n"
     ]
    }
   ],
   "source": [
    "print(classification_report(ytest,pred_tre))"
   ]
  },
  {
   "cell_type": "code",
   "execution_count": 38,
   "metadata": {},
   "outputs": [],
   "source": [
    "from sklearn.neighbors import KNeighborsClassifier"
   ]
  },
  {
   "cell_type": "code",
   "execution_count": 41,
   "metadata": {},
   "outputs": [
    {
     "data": {
      "text/plain": [
       "100.0"
      ]
     },
     "execution_count": 41,
     "metadata": {},
     "output_type": "execute_result"
    }
   ],
   "source": [
    "kne=KNeighborsClassifier()\n",
    "kne.fit(xtrain,ytrain)\n",
    "pred_kne=kne.predict(xtest)\n",
    "accu_kne=accuracy_score(ytest , pred_tre)*100\n",
    "accu_kne"
   ]
  },
  {
   "cell_type": "code",
   "execution_count": 42,
   "metadata": {
    "collapsed": true
   },
   "outputs": [
    {
     "name": "stdout",
     "output_type": "stream",
     "text": [
      "              precision    recall  f1-score   support\n",
      "\n",
      "           0       0.89      0.74      0.81        42\n",
      "           1       0.80      0.59      0.68        34\n",
      "           2       0.52      0.62      0.57        45\n",
      "           3       0.13      0.35      0.19        34\n",
      "           4       0.26      0.47      0.34        36\n",
      "           5       0.41      0.62      0.49        34\n",
      "           6       0.66      0.70      0.68        33\n",
      "           7       0.27      0.21      0.24        42\n",
      "           8       0.26      0.45      0.33        33\n",
      "           9       0.14      0.21      0.17        29\n",
      "          10       0.33      0.36      0.35        33\n",
      "          11       0.26      0.15      0.19        41\n",
      "          12       0.21      0.25      0.23        32\n",
      "          13       0.70      0.50      0.58        38\n",
      "          14       0.80      0.80      0.80        30\n",
      "          15       0.19      0.13      0.15        39\n",
      "          16       0.77      0.63      0.69        27\n",
      "          17       0.66      0.70      0.68        27\n",
      "          18       0.83      0.49      0.61        39\n",
      "          19       0.26      0.32      0.29        28\n",
      "          20       0.27      0.11      0.15        37\n",
      "          21       0.38      0.47      0.42        38\n",
      "          22       0.48      0.57      0.52        37\n",
      "          23       0.22      0.25      0.24        32\n",
      "          24       0.47      0.44      0.45        32\n",
      "          25       0.69      0.67      0.68        30\n",
      "          26       0.26      0.16      0.20        32\n",
      "          27       0.65      0.50      0.56        44\n",
      "          28       0.58      0.56      0.57        34\n",
      "          29       0.84      0.84      0.84        43\n",
      "          30       0.11      0.06      0.08        32\n",
      "          31       0.50      0.34      0.41        35\n",
      "          32       0.19      0.16      0.17        32\n",
      "          33       0.14      0.09      0.11        35\n",
      "          34       0.62      0.69      0.66        36\n",
      "          35       0.20      0.09      0.13        32\n",
      "\n",
      "    accuracy                           0.43      1257\n",
      "   macro avg       0.44      0.42      0.42      1257\n",
      "weighted avg       0.45      0.43      0.43      1257\n",
      "\n"
     ]
    }
   ],
   "source": [
    "print(classification_report(ytest,pred_kne))"
   ]
  },
  {
   "cell_type": "code",
   "execution_count": 43,
   "metadata": {},
   "outputs": [],
   "source": [
    "from sklearn.ensemble import AdaBoostClassifier"
   ]
  },
  {
   "cell_type": "code",
   "execution_count": 46,
   "metadata": {},
   "outputs": [
    {
     "data": {
      "text/plain": [
       "36.27684964200477"
      ]
     },
     "execution_count": 46,
     "metadata": {},
     "output_type": "execute_result"
    }
   ],
   "source": [
    "ada=AdaBoostClassifier()\n",
    "ada.fit(xtrain,ytrain)\n",
    "pred_ada=ada.predict(xtest)\n",
    "accu_ada=accuracy_score(ytest , pred_ada)*100\n",
    "accu_ada"
   ]
  },
  {
   "cell_type": "code",
   "execution_count": 47,
   "metadata": {
    "collapsed": true
   },
   "outputs": [
    {
     "name": "stdout",
     "output_type": "stream",
     "text": [
      "              precision    recall  f1-score   support\n",
      "\n",
      "           0       1.00      1.00      1.00        42\n",
      "           1       1.00      1.00      1.00        34\n",
      "           2       0.00      0.00      0.00        45\n",
      "           3       0.00      0.00      0.00        34\n",
      "           4       0.00      0.00      0.00        36\n",
      "           5       0.00      0.00      0.00        34\n",
      "           6       0.00      0.00      0.00        33\n",
      "           7       0.00      0.00      0.00        42\n",
      "           8       0.00      0.00      0.00        33\n",
      "           9       0.04      1.00      0.07        29\n",
      "          10       0.00      0.00      0.00        33\n",
      "          11       1.00      1.00      1.00        41\n",
      "          12       0.00      0.00      0.00        32\n",
      "          13       1.00      1.00      1.00        38\n",
      "          14       1.00      1.00      1.00        30\n",
      "          15       0.00      0.00      0.00        39\n",
      "          16       1.00      1.00      1.00        27\n",
      "          17       0.31      1.00      0.47        27\n",
      "          18       1.00      1.00      1.00        39\n",
      "          19       0.00      0.00      0.00        28\n",
      "          20       0.00      0.00      0.00        37\n",
      "          21       1.00      1.00      1.00        38\n",
      "          22       0.00      0.00      0.00        37\n",
      "          23       0.00      0.00      0.00        32\n",
      "          24       0.00      0.00      0.00        32\n",
      "          25       0.00      0.00      0.00        30\n",
      "          26       1.00      1.00      1.00        32\n",
      "          27       0.00      0.00      0.00        44\n",
      "          28       0.00      0.00      0.00        34\n",
      "          29       1.00      1.00      1.00        43\n",
      "          30       0.00      0.00      0.00        32\n",
      "          31       0.00      0.00      0.00        35\n",
      "          32       0.00      0.00      0.00        32\n",
      "          33       0.00      0.00      0.00        35\n",
      "          34       1.00      1.00      1.00        36\n",
      "          35       0.00      0.00      0.00        32\n",
      "\n",
      "    accuracy                           0.36      1257\n",
      "   macro avg       0.32      0.36      0.32      1257\n",
      "weighted avg       0.33      0.36      0.33      1257\n",
      "\n"
     ]
    },
    {
     "name": "stderr",
     "output_type": "stream",
     "text": [
      "C:\\Users\\Md Asif Ikbal\\anaconda3\\lib\\site-packages\\sklearn\\metrics\\_classification.py:1272: UndefinedMetricWarning: Precision and F-score are ill-defined and being set to 0.0 in labels with no predicted samples. Use `zero_division` parameter to control this behavior.\n",
      "  _warn_prf(average, modifier, msg_start, len(result))\n"
     ]
    }
   ],
   "source": [
    "print(classification_report(ytest,pred_ada))"
   ]
  },
  {
   "cell_type": "code",
   "execution_count": 48,
   "metadata": {},
   "outputs": [],
   "source": [
    "from sklearn.ensemble import BaggingClassifier"
   ]
  },
  {
   "cell_type": "code",
   "execution_count": 49,
   "metadata": {},
   "outputs": [
    {
     "data": {
      "text/plain": [
       "100.0"
      ]
     },
     "execution_count": 49,
     "metadata": {},
     "output_type": "execute_result"
    }
   ],
   "source": [
    "bag=BaggingClassifier()\n",
    "bag.fit(xtrain,ytrain)\n",
    "pred_bag=bag.predict(xtest)\n",
    "accu_bag=accuracy_score(ytest , pred_bag)*100\n",
    "accu_bag"
   ]
  },
  {
   "cell_type": "code",
   "execution_count": 50,
   "metadata": {
    "collapsed": true
   },
   "outputs": [
    {
     "name": "stdout",
     "output_type": "stream",
     "text": [
      "              precision    recall  f1-score   support\n",
      "\n",
      "           0       1.00      1.00      1.00        42\n",
      "           1       1.00      1.00      1.00        34\n",
      "           2       1.00      1.00      1.00        45\n",
      "           3       1.00      1.00      1.00        34\n",
      "           4       1.00      1.00      1.00        36\n",
      "           5       1.00      1.00      1.00        34\n",
      "           6       1.00      1.00      1.00        33\n",
      "           7       1.00      1.00      1.00        42\n",
      "           8       1.00      1.00      1.00        33\n",
      "           9       1.00      1.00      1.00        29\n",
      "          10       1.00      1.00      1.00        33\n",
      "          11       1.00      1.00      1.00        41\n",
      "          12       1.00      1.00      1.00        32\n",
      "          13       1.00      1.00      1.00        38\n",
      "          14       1.00      1.00      1.00        30\n",
      "          15       1.00      1.00      1.00        39\n",
      "          16       1.00      1.00      1.00        27\n",
      "          17       1.00      1.00      1.00        27\n",
      "          18       1.00      1.00      1.00        39\n",
      "          19       1.00      1.00      1.00        28\n",
      "          20       1.00      1.00      1.00        37\n",
      "          21       1.00      1.00      1.00        38\n",
      "          22       1.00      1.00      1.00        37\n",
      "          23       1.00      1.00      1.00        32\n",
      "          24       1.00      1.00      1.00        32\n",
      "          25       1.00      1.00      1.00        30\n",
      "          26       1.00      1.00      1.00        32\n",
      "          27       1.00      1.00      1.00        44\n",
      "          28       1.00      1.00      1.00        34\n",
      "          29       1.00      1.00      1.00        43\n",
      "          30       1.00      1.00      1.00        32\n",
      "          31       1.00      1.00      1.00        35\n",
      "          32       1.00      1.00      1.00        32\n",
      "          33       1.00      1.00      1.00        35\n",
      "          34       1.00      1.00      1.00        36\n",
      "          35       1.00      1.00      1.00        32\n",
      "\n",
      "    accuracy                           1.00      1257\n",
      "   macro avg       1.00      1.00      1.00      1257\n",
      "weighted avg       1.00      1.00      1.00      1257\n",
      "\n"
     ]
    }
   ],
   "source": [
    "print(classification_report(ytest,pred_bag))"
   ]
  },
  {
   "cell_type": "code",
   "execution_count": 51,
   "metadata": {},
   "outputs": [],
   "source": [
    "from sklearn.naive_bayes import GaussianNB"
   ]
  },
  {
   "cell_type": "code",
   "execution_count": 52,
   "metadata": {},
   "outputs": [
    {
     "data": {
      "text/plain": [
       "100.0"
      ]
     },
     "execution_count": 52,
     "metadata": {},
     "output_type": "execute_result"
    }
   ],
   "source": [
    "gau=GaussianNB()\n",
    "gau.fit(xtrain,ytrain)\n",
    "pre_gau=gau.predict(xtest)\n",
    "accu_l=accuracy_score(ytest,pre_gau)*100\n",
    "accu_l"
   ]
  },
  {
   "cell_type": "code",
   "execution_count": 53,
   "metadata": {
    "collapsed": true
   },
   "outputs": [
    {
     "name": "stdout",
     "output_type": "stream",
     "text": [
      "              precision    recall  f1-score   support\n",
      "\n",
      "           0       1.00      1.00      1.00        42\n",
      "           1       1.00      1.00      1.00        34\n",
      "           2       1.00      1.00      1.00        45\n",
      "           3       1.00      1.00      1.00        34\n",
      "           4       1.00      1.00      1.00        36\n",
      "           5       1.00      1.00      1.00        34\n",
      "           6       1.00      1.00      1.00        33\n",
      "           7       1.00      1.00      1.00        42\n",
      "           8       1.00      1.00      1.00        33\n",
      "           9       1.00      1.00      1.00        29\n",
      "          10       1.00      1.00      1.00        33\n",
      "          11       1.00      1.00      1.00        41\n",
      "          12       1.00      1.00      1.00        32\n",
      "          13       1.00      1.00      1.00        38\n",
      "          14       1.00      1.00      1.00        30\n",
      "          15       1.00      1.00      1.00        39\n",
      "          16       1.00      1.00      1.00        27\n",
      "          17       1.00      1.00      1.00        27\n",
      "          18       1.00      1.00      1.00        39\n",
      "          19       1.00      1.00      1.00        28\n",
      "          20       1.00      1.00      1.00        37\n",
      "          21       1.00      1.00      1.00        38\n",
      "          22       1.00      1.00      1.00        37\n",
      "          23       1.00      1.00      1.00        32\n",
      "          24       1.00      1.00      1.00        32\n",
      "          25       1.00      1.00      1.00        30\n",
      "          26       1.00      1.00      1.00        32\n",
      "          27       1.00      1.00      1.00        44\n",
      "          28       1.00      1.00      1.00        34\n",
      "          29       1.00      1.00      1.00        43\n",
      "          30       1.00      1.00      1.00        32\n",
      "          31       1.00      1.00      1.00        35\n",
      "          32       1.00      1.00      1.00        32\n",
      "          33       1.00      1.00      1.00        35\n",
      "          34       1.00      1.00      1.00        36\n",
      "          35       1.00      1.00      1.00        32\n",
      "\n",
      "    accuracy                           1.00      1257\n",
      "   macro avg       1.00      1.00      1.00      1257\n",
      "weighted avg       1.00      1.00      1.00      1257\n",
      "\n"
     ]
    }
   ],
   "source": [
    "print(classification_report(ytest,pre_gau))"
   ]
  },
  {
   "cell_type": "code",
   "execution_count": 54,
   "metadata": {},
   "outputs": [],
   "source": [
    "from sklearn.ensemble import AdaBoostClassifier"
   ]
  },
  {
   "cell_type": "code",
   "execution_count": 55,
   "metadata": {},
   "outputs": [
    {
     "data": {
      "text/plain": [
       "33.969769291964994"
      ]
     },
     "execution_count": 55,
     "metadata": {},
     "output_type": "execute_result"
    }
   ],
   "source": [
    "ada=AdaBoostClassifier()\n",
    "#rdf=RandomForestClassifier()\n",
    "ada.fit(xtrain,ytrain)\n",
    "pre_ada=ada.predict(xtest)\n",
    "accu_ada=accuracy_score(ytest,pre_ada)*100\n",
    "accu_ada"
   ]
  },
  {
   "cell_type": "code",
   "execution_count": 56,
   "metadata": {
    "collapsed": true
   },
   "outputs": [
    {
     "name": "stdout",
     "output_type": "stream",
     "text": [
      "              precision    recall  f1-score   support\n",
      "\n",
      "           0       1.00      1.00      1.00        42\n",
      "           1       1.00      1.00      1.00        34\n",
      "           2       0.00      0.00      0.00        45\n",
      "           3       0.00      0.00      0.00        34\n",
      "           4       0.00      0.00      0.00        36\n",
      "           5       0.00      0.00      0.00        34\n",
      "           6       0.00      0.00      0.00        33\n",
      "           7       0.00      0.00      0.00        42\n",
      "           8       0.00      0.00      0.00        33\n",
      "           9       0.00      0.00      0.00        29\n",
      "          10       0.00      0.00      0.00        33\n",
      "          11       1.00      1.00      1.00        41\n",
      "          12       0.00      0.00      0.00        32\n",
      "          13       1.00      1.00      1.00        38\n",
      "          14       1.00      1.00      1.00        30\n",
      "          15       0.00      0.00      0.00        39\n",
      "          16       1.00      1.00      1.00        27\n",
      "          17       0.03      1.00      0.06        27\n",
      "          18       1.00      1.00      1.00        39\n",
      "          19       0.00      0.00      0.00        28\n",
      "          20       0.00      0.00      0.00        37\n",
      "          21       1.00      1.00      1.00        38\n",
      "          22       0.00      0.00      0.00        37\n",
      "          23       0.00      0.00      0.00        32\n",
      "          24       0.00      0.00      0.00        32\n",
      "          25       0.00      0.00      0.00        30\n",
      "          26       1.00      1.00      1.00        32\n",
      "          27       0.00      0.00      0.00        44\n",
      "          28       0.00      0.00      0.00        34\n",
      "          29       1.00      1.00      1.00        43\n",
      "          30       0.00      0.00      0.00        32\n",
      "          31       0.00      0.00      0.00        35\n",
      "          32       0.00      0.00      0.00        32\n",
      "          33       0.00      0.00      0.00        35\n",
      "          34       1.00      1.00      1.00        36\n",
      "          35       0.00      0.00      0.00        32\n",
      "\n",
      "    accuracy                           0.34      1257\n",
      "   macro avg       0.31      0.33      0.31      1257\n",
      "weighted avg       0.32      0.34      0.32      1257\n",
      "\n"
     ]
    },
    {
     "name": "stderr",
     "output_type": "stream",
     "text": [
      "C:\\Users\\Md Asif Ikbal\\anaconda3\\lib\\site-packages\\sklearn\\metrics\\_classification.py:1272: UndefinedMetricWarning: Precision and F-score are ill-defined and being set to 0.0 in labels with no predicted samples. Use `zero_division` parameter to control this behavior.\n",
      "  _warn_prf(average, modifier, msg_start, len(result))\n"
     ]
    }
   ],
   "source": [
    "print(classification_report(ytest,pre_ada))"
   ]
  },
  {
   "cell_type": "code",
   "execution_count": 57,
   "metadata": {},
   "outputs": [],
   "source": [
    "from sklearn.ensemble import ExtraTreesClassifier"
   ]
  },
  {
   "cell_type": "code",
   "execution_count": 58,
   "metadata": {},
   "outputs": [
    {
     "data": {
      "text/plain": [
       "100.0"
      ]
     },
     "execution_count": 58,
     "metadata": {},
     "output_type": "execute_result"
    }
   ],
   "source": [
    "etc=ExtraTreesClassifier()\n",
    "etc.fit(xtrain,ytrain)\n",
    "pre_etc=etc.predict(xtest)\n",
    "accu_etc=accuracy_score(ytest,pre_etc)*100\n",
    "accu_etc"
   ]
  },
  {
   "cell_type": "code",
   "execution_count": 59,
   "metadata": {
    "collapsed": true
   },
   "outputs": [
    {
     "name": "stdout",
     "output_type": "stream",
     "text": [
      "              precision    recall  f1-score   support\n",
      "\n",
      "           0       1.00      1.00      1.00        42\n",
      "           1       1.00      1.00      1.00        34\n",
      "           2       1.00      1.00      1.00        45\n",
      "           3       1.00      1.00      1.00        34\n",
      "           4       1.00      1.00      1.00        36\n",
      "           5       1.00      1.00      1.00        34\n",
      "           6       1.00      1.00      1.00        33\n",
      "           7       1.00      1.00      1.00        42\n",
      "           8       1.00      1.00      1.00        33\n",
      "           9       1.00      1.00      1.00        29\n",
      "          10       1.00      1.00      1.00        33\n",
      "          11       1.00      1.00      1.00        41\n",
      "          12       1.00      1.00      1.00        32\n",
      "          13       1.00      1.00      1.00        38\n",
      "          14       1.00      1.00      1.00        30\n",
      "          15       1.00      1.00      1.00        39\n",
      "          16       1.00      1.00      1.00        27\n",
      "          17       1.00      1.00      1.00        27\n",
      "          18       1.00      1.00      1.00        39\n",
      "          19       1.00      1.00      1.00        28\n",
      "          20       1.00      1.00      1.00        37\n",
      "          21       1.00      1.00      1.00        38\n",
      "          22       1.00      1.00      1.00        37\n",
      "          23       1.00      1.00      1.00        32\n",
      "          24       1.00      1.00      1.00        32\n",
      "          25       1.00      1.00      1.00        30\n",
      "          26       1.00      1.00      1.00        32\n",
      "          27       1.00      1.00      1.00        44\n",
      "          28       1.00      1.00      1.00        34\n",
      "          29       1.00      1.00      1.00        43\n",
      "          30       1.00      1.00      1.00        32\n",
      "          31       1.00      1.00      1.00        35\n",
      "          32       1.00      1.00      1.00        32\n",
      "          33       1.00      1.00      1.00        35\n",
      "          34       1.00      1.00      1.00        36\n",
      "          35       1.00      1.00      1.00        32\n",
      "\n",
      "    accuracy                           1.00      1257\n",
      "   macro avg       1.00      1.00      1.00      1257\n",
      "weighted avg       1.00      1.00      1.00      1257\n",
      "\n"
     ]
    }
   ],
   "source": [
    "print(classification_report(ytest,pre_etc))"
   ]
  },
  {
   "cell_type": "code",
   "execution_count": 62,
   "metadata": {},
   "outputs": [],
   "source": [
    "from sklearn.svm import SVC"
   ]
  },
  {
   "cell_type": "code",
   "execution_count": 67,
   "metadata": {},
   "outputs": [
    {
     "data": {
      "text/plain": [
       "40.89101034208433"
      ]
     },
     "execution_count": 67,
     "metadata": {},
     "output_type": "execute_result"
    }
   ],
   "source": [
    "svc=SVC()\n",
    "svc.fit(xtrain,ytrain)\n",
    "pre_siv=svc.predict(xtest)\n",
    "accu_siv=accuracy_score(ytest,pre_siv)*100\n",
    "accu_siv"
   ]
  },
  {
   "cell_type": "code",
   "execution_count": 64,
   "metadata": {
    "scrolled": true
   },
   "outputs": [
    {
     "name": "stdout",
     "output_type": "stream",
     "text": [
      "              precision    recall  f1-score   support\n",
      "\n",
      "           0       0.92      0.79      0.85        42\n",
      "           1       1.00      0.50      0.67        34\n",
      "           2       0.56      0.53      0.55        45\n",
      "           3       0.16      0.29      0.21        34\n",
      "           4       0.27      0.44      0.34        36\n",
      "           5       0.31      0.50      0.39        34\n",
      "           6       0.75      0.73      0.74        33\n",
      "           7       0.00      0.00      0.00        42\n",
      "           8       0.25      0.48      0.33        33\n",
      "           9       0.13      0.28      0.17        29\n",
      "          10       0.27      0.09      0.14        33\n",
      "          11       0.00      0.00      0.00        41\n",
      "          12       0.22      0.47      0.30        32\n",
      "          13       0.67      0.37      0.47        38\n",
      "          14       0.65      0.80      0.72        30\n",
      "          15       0.00      0.00      0.00        39\n",
      "          16       0.76      0.70      0.73        27\n",
      "          17       0.72      0.78      0.75        27\n",
      "          18       0.76      0.64      0.69        39\n",
      "          19       0.18      0.71      0.29        28\n",
      "          20       0.50      0.03      0.05        37\n",
      "          21       0.41      0.55      0.47        38\n",
      "          22       0.38      0.43      0.41        37\n",
      "          23       0.20      0.59      0.29        32\n",
      "          24       0.33      0.03      0.06        32\n",
      "          25       0.54      0.67      0.60        30\n",
      "          26       0.30      0.25      0.27        32\n",
      "          27       0.00      0.00      0.00        44\n",
      "          28       0.68      0.82      0.75        34\n",
      "          29       0.91      0.72      0.81        43\n",
      "          30       0.00      0.00      0.00        32\n",
      "          31       0.64      0.40      0.49        35\n",
      "          32       0.17      0.34      0.23        32\n",
      "          33       0.00      0.00      0.00        35\n",
      "          34       0.52      0.81      0.63        36\n",
      "          35       0.60      0.28      0.38        32\n",
      "\n",
      "    accuracy                           0.41      1257\n",
      "   macro avg       0.41      0.42      0.38      1257\n",
      "weighted avg       0.41      0.41      0.38      1257\n",
      "\n"
     ]
    },
    {
     "name": "stderr",
     "output_type": "stream",
     "text": [
      "C:\\Users\\Md Asif Ikbal\\anaconda3\\lib\\site-packages\\sklearn\\metrics\\_classification.py:1272: UndefinedMetricWarning: Precision and F-score are ill-defined and being set to 0.0 in labels with no predicted samples. Use `zero_division` parameter to control this behavior.\n",
      "  _warn_prf(average, modifier, msg_start, len(result))\n"
     ]
    }
   ],
   "source": [
    "print(classification_report(ytest,pre_siv))"
   ]
  },
  {
   "cell_type": "code",
   "execution_count": 68,
   "metadata": {},
   "outputs": [
    {
     "data": {
      "text/html": [
       "<div>\n",
       "<style scoped>\n",
       "    .dataframe tbody tr th:only-of-type {\n",
       "        vertical-align: middle;\n",
       "    }\n",
       "\n",
       "    .dataframe tbody tr th {\n",
       "        vertical-align: top;\n",
       "    }\n",
       "\n",
       "    .dataframe thead th {\n",
       "        text-align: right;\n",
       "    }\n",
       "</style>\n",
       "<table border=\"1\" class=\"dataframe\">\n",
       "  <thead>\n",
       "    <tr style=\"text-align: right;\">\n",
       "      <th></th>\n",
       "      <th>Model</th>\n",
       "      <th>Score</th>\n",
       "    </tr>\n",
       "  </thead>\n",
       "  <tbody>\n",
       "    <tr>\n",
       "      <th>0</th>\n",
       "      <td>DecisionTreeClassifier</td>\n",
       "      <td>100.000000</td>\n",
       "    </tr>\n",
       "    <tr>\n",
       "      <th>2</th>\n",
       "      <td>KNeighborsClassifier</td>\n",
       "      <td>100.000000</td>\n",
       "    </tr>\n",
       "    <tr>\n",
       "      <th>4</th>\n",
       "      <td>BaggingClassifier</td>\n",
       "      <td>100.000000</td>\n",
       "    </tr>\n",
       "    <tr>\n",
       "      <th>8</th>\n",
       "      <td>ExtraTreesClassifier</td>\n",
       "      <td>100.000000</td>\n",
       "    </tr>\n",
       "    <tr>\n",
       "      <th>1</th>\n",
       "      <td>RandomForestClassifier</td>\n",
       "      <td>40.891010</td>\n",
       "    </tr>\n",
       "    <tr>\n",
       "      <th>5</th>\n",
       "      <td>GaussianNB</td>\n",
       "      <td>40.891010</td>\n",
       "    </tr>\n",
       "    <tr>\n",
       "      <th>6</th>\n",
       "      <td>AdaBoostClassifier</td>\n",
       "      <td>40.891010</td>\n",
       "    </tr>\n",
       "    <tr>\n",
       "      <th>9</th>\n",
       "      <td>SVM</td>\n",
       "      <td>40.891010</td>\n",
       "    </tr>\n",
       "    <tr>\n",
       "      <th>3</th>\n",
       "      <td>AdaBoostClassifier</td>\n",
       "      <td>33.969769</td>\n",
       "    </tr>\n",
       "    <tr>\n",
       "      <th>7</th>\n",
       "      <td>GradientBoostingClassifier</td>\n",
       "      <td>33.969769</td>\n",
       "    </tr>\n",
       "  </tbody>\n",
       "</table>\n",
       "</div>"
      ],
      "text/plain": [
       "                        Model       Score\n",
       "0      DecisionTreeClassifier  100.000000\n",
       "2        KNeighborsClassifier  100.000000\n",
       "4           BaggingClassifier  100.000000\n",
       "8        ExtraTreesClassifier  100.000000\n",
       "1      RandomForestClassifier   40.891010\n",
       "5                  GaussianNB   40.891010\n",
       "6          AdaBoostClassifier   40.891010\n",
       "9                         SVM   40.891010\n",
       "3          AdaBoostClassifier   33.969769\n",
       "7  GradientBoostingClassifier   33.969769"
      ]
     },
     "execution_count": 68,
     "metadata": {},
     "output_type": "execute_result"
    }
   ],
   "source": [
    "models = pd.DataFrame({\n",
    "    'Model': ['DecisionTreeClassifier','RandomForestClassifier',  'KNeighborsClassifier',\n",
    "             'AdaBoostClassifier','BaggingClassifier','GaussianNB','AdaBoostClassifier','GradientBoostingClassifier','ExtraTreesClassifier','SVM'],\n",
    "    'Score': [ accu_tre,accu_l, accu_kne, accu_ada,accu_bag,accu_l,accu_l,accu_ada,accu_etc,accu_siv]\n",
    "})\n",
    "\n",
    "models.sort_values(by = 'Score', ascending = False)"
   ]
  },
  {
   "cell_type": "code",
   "execution_count": 69,
   "metadata": {},
   "outputs": [
    {
     "data": {
      "image/png": "[encoded data removed]",
      "text/plain": [
       "<Figure size 1080x576 with 1 Axes>"
      ]
     },
     "metadata": {},
     "output_type": "display_data"
    }
   ],
   "source": [
    "colors = [\"purple\", \"green\", \"orange\", \"magenta\",\"blue\",\"black\",\"red\"]\n",
    "\n",
    "sns.set_style(\"whitegrid\")\n",
    "plt.figure(figsize=(15,8))\n",
    "plt.ylabel(\"Accuracy %\")\n",
    "plt.xlabel(\"Algorithms\")\n",
    "sns.barplot(x=models['Model'],y=models['Score'], palette=colors )\n",
    "plt.show()"
   ]
  },
  {
   "cell_type": "code",
   "execution_count": 70,
   "metadata": {},
   "outputs": [
    {
     "data": {
      "text/html": [
       "<div>\n",
       "<style scoped>\n",
       "    .dataframe tbody tr th:only-of-type {\n",
       "        vertical-align: middle;\n",
       "    }\n",
       "\n",
       "    .dataframe tbody tr th {\n",
       "        vertical-align: top;\n",
       "    }\n",
       "\n",
       "    .dataframe thead th {\n",
       "        text-align: right;\n",
       "    }\n",
       "</style>\n",
       "<table border=\"1\" class=\"dataframe\">\n",
       "  <thead>\n",
       "    <tr style=\"text-align: right;\">\n",
       "      <th></th>\n",
       "      <th>SUBDIVISION</th>\n",
       "      <th>YEAR</th>\n",
       "      <th>JAN</th>\n",
       "      <th>FEB</th>\n",
       "      <th>MAR</th>\n",
       "      <th>APR</th>\n",
       "      <th>MAY</th>\n",
       "      <th>JUN</th>\n",
       "      <th>JUL</th>\n",
       "      <th>AUG</th>\n",
       "      <th>...</th>\n",
       "      <th>OCT</th>\n",
       "      <th>NOV</th>\n",
       "      <th>DEC</th>\n",
       "      <th>ANNUAL</th>\n",
       "      <th>Jan-Feb</th>\n",
       "      <th>Mar-May</th>\n",
       "      <th>June-September</th>\n",
       "      <th>Oct-Dec</th>\n",
       "      <th>Latitude</th>\n",
       "      <th>Longitude</th>\n",
       "    </tr>\n",
       "  </thead>\n",
       "  <tbody>\n",
       "    <tr>\n",
       "      <th>0</th>\n",
       "      <td>0</td>\n",
       "      <td>1901</td>\n",
       "      <td>49.2</td>\n",
       "      <td>87.1</td>\n",
       "      <td>29.2</td>\n",
       "      <td>2.3</td>\n",
       "      <td>528.8</td>\n",
       "      <td>517.5</td>\n",
       "      <td>365.1</td>\n",
       "      <td>481.1</td>\n",
       "      <td>...</td>\n",
       "      <td>388.5</td>\n",
       "      <td>558.2</td>\n",
       "      <td>33.6</td>\n",
       "      <td>3373.2</td>\n",
       "      <td>136.3</td>\n",
       "      <td>560.3</td>\n",
       "      <td>1696.3</td>\n",
       "      <td>980.3</td>\n",
       "      <td>12.61124</td>\n",
       "      <td>92.83165</td>\n",
       "    </tr>\n",
       "    <tr>\n",
       "      <th>1</th>\n",
       "      <td>0</td>\n",
       "      <td>1902</td>\n",
       "      <td>0.0</td>\n",
       "      <td>159.8</td>\n",
       "      <td>12.2</td>\n",
       "      <td>0.0</td>\n",
       "      <td>446.1</td>\n",
       "      <td>537.1</td>\n",
       "      <td>228.9</td>\n",
       "      <td>753.7</td>\n",
       "      <td>...</td>\n",
       "      <td>197.2</td>\n",
       "      <td>359.0</td>\n",
       "      <td>160.5</td>\n",
       "      <td>3520.7</td>\n",
       "      <td>159.8</td>\n",
       "      <td>458.3</td>\n",
       "      <td>2185.9</td>\n",
       "      <td>716.7</td>\n",
       "      <td>12.61124</td>\n",
       "      <td>92.83165</td>\n",
       "    </tr>\n",
       "    <tr>\n",
       "      <th>2</th>\n",
       "      <td>0</td>\n",
       "      <td>1903</td>\n",
       "      <td>12.7</td>\n",
       "      <td>144.0</td>\n",
       "      <td>0.0</td>\n",
       "      <td>1.0</td>\n",
       "      <td>235.1</td>\n",
       "      <td>479.9</td>\n",
       "      <td>728.4</td>\n",
       "      <td>326.7</td>\n",
       "      <td>...</td>\n",
       "      <td>181.2</td>\n",
       "      <td>284.4</td>\n",
       "      <td>225.0</td>\n",
       "      <td>2957.4</td>\n",
       "      <td>156.7</td>\n",
       "      <td>236.1</td>\n",
       "      <td>1874.0</td>\n",
       "      <td>690.6</td>\n",
       "      <td>12.61124</td>\n",
       "      <td>92.83165</td>\n",
       "    </tr>\n",
       "    <tr>\n",
       "      <th>3</th>\n",
       "      <td>0</td>\n",
       "      <td>1904</td>\n",
       "      <td>9.4</td>\n",
       "      <td>14.7</td>\n",
       "      <td>0.0</td>\n",
       "      <td>202.4</td>\n",
       "      <td>304.5</td>\n",
       "      <td>495.1</td>\n",
       "      <td>502.0</td>\n",
       "      <td>160.1</td>\n",
       "      <td>...</td>\n",
       "      <td>222.2</td>\n",
       "      <td>308.7</td>\n",
       "      <td>40.1</td>\n",
       "      <td>3079.6</td>\n",
       "      <td>24.1</td>\n",
       "      <td>506.9</td>\n",
       "      <td>1977.6</td>\n",
       "      <td>571.0</td>\n",
       "      <td>12.61124</td>\n",
       "      <td>92.83165</td>\n",
       "    </tr>\n",
       "    <tr>\n",
       "      <th>4</th>\n",
       "      <td>0</td>\n",
       "      <td>1905</td>\n",
       "      <td>1.3</td>\n",
       "      <td>0.0</td>\n",
       "      <td>3.3</td>\n",
       "      <td>26.9</td>\n",
       "      <td>279.5</td>\n",
       "      <td>628.7</td>\n",
       "      <td>368.7</td>\n",
       "      <td>330.5</td>\n",
       "      <td>...</td>\n",
       "      <td>260.7</td>\n",
       "      <td>25.4</td>\n",
       "      <td>344.7</td>\n",
       "      <td>2566.7</td>\n",
       "      <td>1.3</td>\n",
       "      <td>309.7</td>\n",
       "      <td>1624.9</td>\n",
       "      <td>630.8</td>\n",
       "      <td>12.61124</td>\n",
       "      <td>92.83165</td>\n",
       "    </tr>\n",
       "  </tbody>\n",
       "</table>\n",
       "<p>5 rows × 21 columns</p>\n",
       "</div>"
      ],
      "text/plain": [
       "   SUBDIVISION  YEAR   JAN    FEB   MAR    APR    MAY    JUN    JUL    AUG  \\\n",
       "0            0  1901  49.2   87.1  29.2    2.3  528.8  517.5  365.1  481.1   \n",
       "1            0  1902   0.0  159.8  12.2    0.0  446.1  537.1  228.9  753.7   \n",
       "2            0  1903  12.7  144.0   0.0    1.0  235.1  479.9  728.4  326.7   \n",
       "3            0  1904   9.4   14.7   0.0  202.4  304.5  495.1  502.0  160.1   \n",
       "4            0  1905   1.3    0.0   3.3   26.9  279.5  628.7  368.7  330.5   \n",
       "\n",
       "   ...    OCT    NOV    DEC  ANNUAL  Jan-Feb  Mar-May  June-September  \\\n",
       "0  ...  388.5  558.2   33.6  3373.2    136.3    560.3          1696.3   \n",
       "1  ...  197.2  359.0  160.5  3520.7    159.8    458.3          2185.9   \n",
       "2  ...  181.2  284.4  225.0  2957.4    156.7    236.1          1874.0   \n",
       "3  ...  222.2  308.7   40.1  3079.6     24.1    506.9          1977.6   \n",
       "4  ...  260.7   25.4  344.7  2566.7      1.3    309.7          1624.9   \n",
       "\n",
       "   Oct-Dec  Latitude  Longitude  \n",
       "0    980.3  12.61124   92.83165  \n",
       "1    716.7  12.61124   92.83165  \n",
       "2    690.6  12.61124   92.83165  \n",
       "3    571.0  12.61124   92.83165  \n",
       "4    630.8  12.61124   92.83165  \n",
       "\n",
       "[5 rows x 21 columns]"
      ]
     },
     "execution_count": 70,
     "metadata": {},
     "output_type": "execute_result"
    }
   ],
   "source": [
    "df.head()"
   ]
  },
  {
   "cell_type": "code",
   "execution_count": 72,
   "metadata": {},
   "outputs": [
    {
     "data": {
      "text/plain": [
       "Index(['SUBDIVISION', 'YEAR', 'JAN', 'FEB', 'MAR', 'APR', 'MAY', 'JUN', 'JUL',\n",
       "       'AUG', 'SEP', 'OCT', 'NOV', 'DEC', 'ANNUAL', 'Jan-Feb', 'Mar-May',\n",
       "       'June-September', 'Oct-Dec', 'Latitude', 'Longitude'],\n",
       "      dtype='object')"
      ]
     },
     "execution_count": 72,
     "metadata": {},
     "output_type": "execute_result"
    }
   ],
   "source": [
    "df.columns"
   ]
  },
  {
   "cell_type": "code",
   "execution_count": 73,
   "metadata": {},
   "outputs": [],
   "source": [
    "import sklearn.cluster as cluster"
   ]
  },
  {
   "cell_type": "code",
   "execution_count": 74,
   "metadata": {},
   "outputs": [],
   "source": [
    "kmns=cluster.KMeans(n_clusters=5)"
   ]
  },
  {
   "cell_type": "code",
   "execution_count": 76,
   "metadata": {},
   "outputs": [],
   "source": [
    "kmns=kmns.fit(df[['YEAR','JAN']])"
   ]
  },
  {
   "cell_type": "code",
   "execution_count": 77,
   "metadata": {},
   "outputs": [
    {
     "data": {
      "text/plain": [
       "array([[1920.96219136,   10.58408607],\n",
       "       [1961.24052718,    8.80769174],\n",
       "       [1951.38297872,   82.83085106],\n",
       "       [1999.1368    ,   10.56419022],\n",
       "       [1961.66666667,  206.53529412]])"
      ]
     },
     "execution_count": 77,
     "metadata": {},
     "output_type": "execute_result"
    }
   ],
   "source": [
    "kmns.cluster_centers_"
   ]
  },
  {
   "cell_type": "code",
   "execution_count": 78,
   "metadata": {},
   "outputs": [],
   "source": [
    "from sklearn.cluster import KMeans "
   ]
  },
  {
   "cell_type": "code",
   "execution_count": 84,
   "metadata": {},
   "outputs": [],
   "source": [
    "k_range=range(1,12)\n",
    "wss=[]"
   ]
  },
  {
   "cell_type": "code",
   "execution_count": 85,
   "metadata": {},
   "outputs": [],
   "source": [
    "for k in k_range:\n",
    "    km=KMeans(n_clusters=k)\n",
    "    km.fit(df[['YEAR','JAN']])\n",
    "    wss.append(km.inertia_)"
   ]
  },
  {
   "cell_type": "code",
   "execution_count": 86,
   "metadata": {
    "scrolled": false
   },
   "outputs": [
    {
     "data": {
      "text/plain": [
       "[9533498.796677366,\n",
       " 5917830.787981566,\n",
       " 3194787.531615016,\n",
       " 2571362.3862770842,\n",
       " 1984491.9743578795,\n",
       " 1686770.604369891,\n",
       " 1394377.1723725805,\n",
       " 1201911.6115074155,\n",
       " 1061844.45761796,\n",
       " 967236.8531933079,\n",
       " 874678.9799369479]"
      ]
     },
     "execution_count": 86,
     "metadata": {},
     "output_type": "execute_result"
    }
   ],
   "source": [
    "wss"
   ]
  },
  {
   "cell_type": "code",
   "execution_count": 87,
   "metadata": {},
   "outputs": [],
   "source": [
    "kmns=cluster.KMeans(n_clusters=5)"
   ]
  },
  {
   "cell_type": "code",
   "execution_count": 88,
   "metadata": {},
   "outputs": [],
   "source": [
    "kmns=kmns.fit(df[['YEAR','FEB']])"
   ]
  },
  {
   "cell_type": "code",
   "execution_count": 89,
   "metadata": {},
   "outputs": [
    {
     "data": {
      "text/plain": [
       "array([[1998.23802042,   11.48798458],\n",
       "       [1919.42819149,   10.09973792],\n",
       "       [1959.12701101,    7.57079117],\n",
       "       [1962.1595092 ,  152.97239264],\n",
       "       [1947.43438914,   69.1520362 ]])"
      ]
     },
     "execution_count": 89,
     "metadata": {},
     "output_type": "execute_result"
    }
   ],
   "source": [
    "kmns.cluster_centers_"
   ]
  },
  {
   "cell_type": "code",
   "execution_count": 91,
   "metadata": {},
   "outputs": [],
   "source": [
    "k_range=range(1,15)\n",
    "wss=[]"
   ]
  },
  {
   "cell_type": "code",
   "execution_count": 95,
   "metadata": {},
   "outputs": [],
   "source": [
    "for k in k_range:\n",
    "    km=KMeans(n_clusters=k)\n",
    "    km.fit(df[['YEAR','FEB']])\n",
    "    wss.append(km.inertia_)"
   ]
  },
  {
   "cell_type": "code",
   "execution_count": 96,
   "metadata": {},
   "outputs": [
    {
     "data": {
      "text/plain": [
       "[10098142.954602312,\n",
       " 6457164.681336597,\n",
       " 3245665.5046129776,\n",
       " 2580265.1366977887,\n",
       " 1986805.5372548092,\n",
       " 1600906.9498219576,\n",
       " 1370874.5561793356,\n",
       " 1203047.449883672,\n",
       " 1043308.8065633837,\n",
       " 946531.2713741884,\n",
       " 870359.9205258064,\n",
       " 784432.7528958677,\n",
       " 710958.5170610785,\n",
       " 665789.0849225379]"
      ]
     },
     "execution_count": 96,
     "metadata": {},
     "output_type": "execute_result"
    }
   ],
   "source": [
    "wss"
   ]
  },
  {
   "cell_type": "code",
   "execution_count": 97,
   "metadata": {},
   "outputs": [],
   "source": [
    "kmns=cluster.KMeans(n_clusters=5)"
   ]
  },
  {
   "cell_type": "code",
   "execution_count": 98,
   "metadata": {},
   "outputs": [],
   "source": [
    "kmns=kmns.fit(df[['YEAR','MAR']])"
   ]
  },
  {
   "cell_type": "code",
   "execution_count": 99,
   "metadata": {},
   "outputs": [
    {
     "data": {
      "text/plain": [
       "array([[1998.78275862,   11.79017241],\n",
       "       [1920.46822204,   12.64302656],\n",
       "       [1959.98532495,   98.61865828],\n",
       "       [1960.12174643,   10.6585147 ],\n",
       "       [1965.95689655,  220.49741379]])"
      ]
     },
     "execution_count": 99,
     "metadata": {},
     "output_type": "execute_result"
    }
   ],
   "source": [
    "kmns.cluster_centers_"
   ]
  },
  {
   "cell_type": "code",
   "execution_count": 100,
   "metadata": {},
   "outputs": [],
   "source": [
    "k_range=range(1,12)\n",
    "wss=[]"
   ]
  },
  {
   "cell_type": "code",
   "execution_count": 101,
   "metadata": {},
   "outputs": [],
   "source": [
    "for k in k_range:\n",
    "    km=KMeans(n_clusters=k)\n",
    "    km.fit(df[['YEAR','MAR']])\n",
    "    wss.append(km.inertia_)"
   ]
  },
  {
   "cell_type": "code",
   "execution_count": 102,
   "metadata": {
    "scrolled": true
   },
   "outputs": [
    {
     "data": {
      "text/plain": [
       "[13958860.660108142,\n",
       " 7609097.3378372025,\n",
       " 4431659.930222274,\n",
       " 3209801.771812981,\n",
       " 2638351.9388970435,\n",
       " 2198279.098716608,\n",
       " 1828975.5076392016,\n",
       " 1618528.0232682799,\n",
       " 1446227.7054837511,\n",
       " 1272815.7425830096,\n",
       " 1156994.523456501]"
      ]
     },
     "execution_count": 102,
     "metadata": {},
     "output_type": "execute_result"
    }
   ],
   "source": [
    "wss"
   ]
  },
  {
   "cell_type": "code",
   "execution_count": 103,
   "metadata": {},
   "outputs": [
    {
     "data": {
      "text/plain": [
       "array([[1988.60211049,   13.34047176],\n",
       "       [1957.87279152,   79.75530035],\n",
       "       [1928.7816092 ,   13.74011931],\n",
       "       [1958.61403509,  320.59824561],\n",
       "       [1962.57878788,  168.74212121]])"
      ]
     },
     "execution_count": 103,
     "metadata": {},
     "output_type": "execute_result"
    }
   ],
   "source": [
    "kmns=cluster.KMeans(n_clusters=5)\n",
    "kmns=kmns.fit(df[['YEAR','APR']])\n",
    "kmns.cluster_centers_"
   ]
  },
  {
   "cell_type": "code",
   "execution_count": 105,
   "metadata": {},
   "outputs": [],
   "source": [
    "k_range=range(1,12)\n",
    "wss=[]\n",
    "for k in k_range:\n",
    "    km=KMeans(n_clusters=k)\n",
    "    km.fit(df[['YEAR','MAY']])\n",
    "    wss.append(km.inertia_)\n",
    "    "
   ]
  },
  {
   "cell_type": "code",
   "execution_count": 106,
   "metadata": {},
   "outputs": [
    {
     "data": {
      "text/plain": [
       "[67739356.19369647,\n",
       " 21257725.927088093,\n",
       " 13736490.864277968,\n",
       " 10161275.061895773,\n",
       " 7724739.337617651,\n",
       " 6114336.999532556,\n",
       " 5095829.939330224,\n",
       " 4368987.013716538,\n",
       " 3878580.86428175,\n",
       " 3510355.2758808285,\n",
       " 3174164.7648054385]"
      ]
     },
     "execution_count": 106,
     "metadata": {},
     "output_type": "execute_result"
    }
   ],
   "source": [
    "wss"
   ]
  },
  {
   "cell_type": "code",
   "execution_count": 108,
   "metadata": {},
   "outputs": [
    {
     "data": {
      "text/plain": [
       "array([[1958.01349164,   64.99881274],\n",
       "       [1955.11578947,  935.45473684],\n",
       "       [1961.72466539,  370.96424474],\n",
       "       [1961.40200167,  180.75974856],\n",
       "       [1956.93127962,  602.57180095]])"
      ]
     },
     "execution_count": 108,
     "metadata": {},
     "output_type": "execute_result"
    }
   ],
   "source": [
    "kmns=cluster.KMeans(n_clusters=5)\n",
    "kmns=kmns.fit(df[['YEAR','JUN']])\n",
    "kmns.cluster_centers_"
   ]
  },
  {
   "cell_type": "code",
   "execution_count": 109,
   "metadata": {},
   "outputs": [],
   "source": [
    "k_range=range(1,12)\n",
    "wss=[]\n",
    "for k in k_range:\n",
    "    km=KMeans(n_clusters=k)\n",
    "    km.fit(df[['YEAR','JUN']])\n",
    "    wss.append(km.inertia_)"
   ]
  },
  {
   "cell_type": "code",
   "execution_count": 110,
   "metadata": {},
   "outputs": [
    {
     "data": {
      "text/plain": [
       "[234233077.47760564,\n",
       " 65487505.61561335,\n",
       " 35734155.78344818,\n",
       " 23470870.88336422,\n",
       " 17326511.152607825,\n",
       " 13414391.62342762,\n",
       " 11197191.385297962,\n",
       " 9905666.252546465,\n",
       " 8737943.087727144,\n",
       " 7762972.5835,\n",
       " 6985362.661599605]"
      ]
     },
     "execution_count": 110,
     "metadata": {},
     "output_type": "execute_result"
    }
   ],
   "source": [
    "wss"
   ]
  },
  {
   "cell_type": "code",
   "execution_count": 111,
   "metadata": {},
   "outputs": [
    {
     "data": {
      "text/plain": [
       "array([[1959.07809111,  130.80788142],\n",
       "       [1958.02836879,  797.57695035],\n",
       "       [1958.29930394,  465.55510441],\n",
       "       [1957.14110429, 1281.76319018],\n",
       "       [1960.29525718,  291.98139376]])"
      ]
     },
     "execution_count": 111,
     "metadata": {},
     "output_type": "execute_result"
    }
   ],
   "source": [
    "kmns=cluster.KMeans(n_clusters=5)\n",
    "kmns=kmns.fit(df[['YEAR','JUL']])\n",
    "kmns.cluster_centers_"
   ]
  },
  {
   "cell_type": "code",
   "execution_count": 112,
   "metadata": {},
   "outputs": [],
   "source": [
    "k_range=range(1,12)\n",
    "wss=[]\n",
    "for k in k_range:\n",
    "    km=KMeans(n_clusters=k)\n",
    "    km.fit(df[['YEAR','JUL']])\n",
    "    wss.append(km.inertia_)"
   ]
  },
  {
   "cell_type": "code",
   "execution_count": 113,
   "metadata": {},
   "outputs": [
    {
     "data": {
      "text/plain": [
       "[306856516.0609205,\n",
       " 110531216.97051513,\n",
       " 56138871.23540676,\n",
       " 36335355.22110728,\n",
       " 25886147.783761714,\n",
       " 19985171.03692028,\n",
       " 16168347.331601363,\n",
       " 14087063.38893673,\n",
       " 12181788.194674494,\n",
       " 10878423.624183208,\n",
       " 9939018.437996374]"
      ]
     },
     "execution_count": 113,
     "metadata": {},
     "output_type": "execute_result"
    }
   ],
   "source": [
    "wss"
   ]
  },
  {
   "cell_type": "code",
   "execution_count": 114,
   "metadata": {},
   "outputs": [
    {
     "data": {
      "text/plain": [
       "array([[1957.7317257 ,  113.65177091],\n",
       "       [1958.41148325,  394.55818182],\n",
       "       [1962.85981308,  976.58130841],\n",
       "       [1961.8998538 ,  251.56984549],\n",
       "       [1955.42352941,  592.53882353]])"
      ]
     },
     "execution_count": 114,
     "metadata": {},
     "output_type": "execute_result"
    }
   ],
   "source": [
    "kmns=cluster.KMeans(n_clusters=5)\n",
    "kmns=kmns.fit(df[['YEAR','AUG']])\n",
    "kmns.cluster_centers_"
   ]
  },
  {
   "cell_type": "code",
   "execution_count": 116,
   "metadata": {},
   "outputs": [],
   "source": [
    "k_range=range(1,12)\n",
    "wss=[]\n",
    "for k in k_range:\n",
    "    km=KMeans(n_clusters=k)\n",
    "    km.fit(df[['YEAR','AUG']])\n",
    "    wss.append(km.inertia_)"
   ]
  },
  {
   "cell_type": "code",
   "execution_count": 117,
   "metadata": {},
   "outputs": [
    {
     "data": {
      "text/plain": [
       "[153264479.50399268,\n",
       " 67518105.40920174,\n",
       " 35050026.2879886,\n",
       " 23146634.79121701,\n",
       " 16972902.41033022,\n",
       " 13705281.578637164,\n",
       " 11511406.265239764,\n",
       " 9833158.377661522,\n",
       " 8723913.111208467,\n",
       " 7869432.607805949,\n",
       " 7092593.332720208]"
      ]
     },
     "execution_count": 117,
     "metadata": {},
     "output_type": "execute_result"
    }
   ],
   "source": [
    "wss"
   ]
  },
  {
   "cell_type": "code",
   "execution_count": 124,
   "metadata": {},
   "outputs": [
    {
     "data": {
      "text/plain": [
       "array([[1960.43846154,  388.80846154],\n",
       "       [1959.35097002,   58.55555556],\n",
       "       [1957.3115942 ,  610.34275362],\n",
       "       [1959.65131579,  154.29763975],\n",
       "       [1958.08666018,  255.36114898]])"
      ]
     },
     "execution_count": 124,
     "metadata": {},
     "output_type": "execute_result"
    }
   ],
   "source": [
    "kmns=cluster.KMeans(n_clusters=5)\n",
    "kmns=kmns.fit(df[['YEAR','SEP']])\n",
    "kmns.cluster_centers_"
   ]
  },
  {
   "cell_type": "code",
   "execution_count": 125,
   "metadata": {},
   "outputs": [],
   "source": [
    "k_range=range(1,12)\n",
    "wss=[]\n",
    "for k in k_range:\n",
    "    km=KMeans(n_clusters=k)\n",
    "    km.fit(df[['YEAR','SEP']])\n",
    "    wss.append(km.inertia_)"
   ]
  },
  {
   "cell_type": "code",
   "execution_count": 126,
   "metadata": {},
   "outputs": [
    {
     "data": {
      "text/plain": [
       "[81574471.6962287,\n",
       " 33757651.84138833,\n",
       " 19745935.04117199,\n",
       " 14010544.520245435,\n",
       " 11135235.691619162,\n",
       " 9246261.34305847,\n",
       " 8017056.050666667,\n",
       " 7027153.635522965,\n",
       " 6197629.252387265,\n",
       " 5538709.644132176,\n",
       " 4884215.51587986]"
      ]
     },
     "execution_count": 126,
     "metadata": {},
     "output_type": "execute_result"
    }
   ],
   "source": [
    "wss"
   ]
  },
  {
   "cell_type": "code",
   "execution_count": 120,
   "metadata": {},
   "outputs": [
    {
     "data": {
      "text/plain": [
       "Index(['SUBDIVISION', 'YEAR', 'JAN', 'FEB', 'MAR', 'APR', 'MAY', 'JUN', 'JUL',\n",
       "       'AUG', 'SEP', 'OCT', 'NOV', 'DEC', 'ANNUAL', 'Jan-Feb', 'Mar-May',\n",
       "       'June-September', 'Oct-Dec', 'Latitude', 'Longitude'],\n",
       "      dtype='object')"
      ]
     },
     "execution_count": 120,
     "metadata": {},
     "output_type": "execute_result"
    }
   ],
   "source": [
    "df.columns"
   ]
  },
  {
   "cell_type": "code",
   "execution_count": 127,
   "metadata": {},
   "outputs": [
    {
     "data": {
      "text/plain": [
       "array([[1988.75799481,   25.15393258],\n",
       "       [1960.55589587,  216.10107198],\n",
       "       [1958.7714808 ,  115.92376873],\n",
       "       [1956.39810427,  368.77345972],\n",
       "       [1927.48787313,   22.60615672]])"
      ]
     },
     "execution_count": 127,
     "metadata": {},
     "output_type": "execute_result"
    }
   ],
   "source": [
    "kmns=cluster.KMeans(n_clusters=5)\n",
    "kmns=kmns.fit(df[['YEAR','OCT']])\n",
    "kmns.cluster_centers_"
   ]
  },
  {
   "cell_type": "code",
   "execution_count": 128,
   "metadata": {},
   "outputs": [],
   "source": [
    "k_range=range(1,12)\n",
    "wss=[]\n",
    "for k in k_range:\n",
    "    km=KMeans(n_clusters=k)\n",
    "    km.fit(df[['YEAR','OCT']])\n",
    "    wss.append(km.inertia_)"
   ]
  },
  {
   "cell_type": "code",
   "execution_count": 129,
   "metadata": {},
   "outputs": [
    {
     "data": {
      "text/plain": [
       "[45884480.44979845,\n",
       " 17976806.38744408,\n",
       " 11151557.182309091,\n",
       " 8648882.441563219,\n",
       " 6659795.00918957,\n",
       " 5515373.180972154,\n",
       " 4696013.819196849,\n",
       " 4107967.0831305827,\n",
       " 3602934.0871914793,\n",
       " 3228269.8351550284,\n",
       " 2942936.8053328968]"
      ]
     },
     "execution_count": 129,
     "metadata": {},
     "output_type": "execute_result"
    }
   ],
   "source": [
    "wss"
   ]
  },
  {
   "cell_type": "code",
   "execution_count": 131,
   "metadata": {},
   "outputs": [
    {
     "data": {
      "text/plain": [
       "array([[1988.93168077,   11.03124629],\n",
       "       [1957.01788909,   85.4470483 ],\n",
       "       [1929.68110483,    9.73290406],\n",
       "       [1956.61870504,  182.18561151],\n",
       "       [1957.38834951,  322.18252427]])"
      ]
     },
     "execution_count": 131,
     "metadata": {},
     "output_type": "execute_result"
    }
   ],
   "source": [
    "kmns=cluster.KMeans(n_clusters=5)\n",
    "kmns=kmns.fit(df[['YEAR','NOV']])\n",
    "kmns.cluster_centers_"
   ]
  },
  {
   "cell_type": "code",
   "execution_count": 132,
   "metadata": {},
   "outputs": [],
   "source": [
    "k_range=range(1,12)\n",
    "wss=[]\n",
    "for k in k_range:\n",
    "    km=KMeans(n_clusters=k)\n",
    "    km.fit(df[['YEAR','NOV']])\n",
    "    wss.append(km.inertia_)"
   ]
  },
  {
   "cell_type": "code",
   "execution_count": 133,
   "metadata": {},
   "outputs": [
    {
     "data": {
      "text/plain": [
       "[24270128.092284225,\n",
       " 10314452.306182716,\n",
       " 7171587.776294678,\n",
       " 4540668.885691508,\n",
       " 3592436.8465335304,\n",
       " 3052224.1179857575,\n",
       " 2605272.4993984536,\n",
       " 2221750.481742799,\n",
       " 1973114.6342334386,\n",
       " 1753509.1645484322,\n",
       " 1589449.6947054032]"
      ]
     },
     "execution_count": 133,
     "metadata": {},
     "output_type": "execute_result"
    }
   ],
   "source": [
    "wss"
   ]
  },
  {
   "cell_type": "code",
   "execution_count": 134,
   "metadata": {},
   "outputs": [
    {
     "data": {
      "text/plain": [
       "array([[1959.60987654,    6.3533371 ],\n",
       "       [1955.20754717,  286.12075472],\n",
       "       [1920.52059052,    8.96488667],\n",
       "       [1998.33229329,    9.44004279],\n",
       "       [1957.35714286,   93.59028571]])"
      ]
     },
     "execution_count": 134,
     "metadata": {},
     "output_type": "execute_result"
    }
   ],
   "source": [
    "kmns=cluster.KMeans(n_clusters=5)\n",
    "kmns=kmns.fit(df[['YEAR','DEC']])\n",
    "kmns.cluster_centers_"
   ]
  },
  {
   "cell_type": "code",
   "execution_count": 135,
   "metadata": {},
   "outputs": [],
   "source": [
    "k_range=range(1,12)\n",
    "wss=[]\n",
    "for k in k_range:\n",
    "    km=KMeans(n_clusters=k)\n",
    "    km.fit(df[['YEAR','DEC']])\n",
    "    wss.append(km.inertia_)"
   ]
  },
  {
   "cell_type": "code",
   "execution_count": 136,
   "metadata": {},
   "outputs": [
    {
     "data": {
      "text/plain": [
       "[12479294.529383188,\n",
       " 7791028.375677572,\n",
       " 4390453.034116847,\n",
       " 3012345.0215116907,\n",
       " 2418286.528769941,\n",
       " 1912069.7254879884,\n",
       " 1603432.7841928971,\n",
       " 1347382.4584095334,\n",
       " 1146407.08489312,\n",
       " 1024546.6915743798,\n",
       " 914197.8691176492]"
      ]
     },
     "execution_count": 136,
     "metadata": {},
     "output_type": "execute_result"
    }
   ],
   "source": [
    "wss"
   ]
  },
  {
   "cell_type": "code",
   "execution_count": null,
   "metadata": {},
   "outputs": [],
   "source": []
  }
 ],
 "metadata": {
  "kernelspec": {
   "display_name": "Python 3",
   "language": "python",
   "name": "python3"
  },
  "language_info": {
   "codemirror_mode": {
    "name": "ipython",
    "version": 3
   },
   "file_extension": ".py",
   "mimetype": "text/x-python",
   "name": "python",
   "nbconvert_exporter": "python",
   "pygments_lexer": "ipython3",
   "version": "3.7.6"
  }
 },
 "nbformat": 4,
 "nbformat_minor": 4
}
